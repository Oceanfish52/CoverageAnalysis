{
 "cells": [
  {
   "cell_type": "code",
   "execution_count": 1,
   "metadata": {},
   "outputs": [],
   "source": [
    "import pandas as pd"
   ]
  },
  {
   "cell_type": "code",
   "execution_count": 4,
   "metadata": {},
   "outputs": [],
   "source": [
    "# read in cell list\n",
    "df = pd.read_clipboard()\n",
    "\n",
    "df.rename({'col':'cell_name'},axis=1,inplace=True)\n",
    "\n",
    "df['sector'] = df['cell_name'].apply(lambda x:x[:6]+x[-1])\n",
    "\n",
    "cell_list = ['BGMOML1812', 'GDNRML1811', 'GDNRML1812', 'MWBTML1816',\n",
    "       'ON65ML1811', 'ON65ML1812', 'ON67ML1811', 'ON67ML1812',\n",
    "       'ON67ML1813', 'ON67ML1816', 'ON88ML1811', 'ON88ML1816',\n",
    "       'ON88ML1818', 'WDTCML1812', 'WDTCML1813', 'WDTCML1817']"
   ]
  },
  {
   "cell_type": "code",
   "execution_count": 24,
   "metadata": {},
   "outputs": [],
   "source": [
    "# read in stat\n",
    "stat = pd.read_csv('../src/STAT_4G_weekly/L2018WK42.csv',header=1)\n",
    "for i in range(43,50):\n",
    "    temp = pd.read_csv(f'../src/STAT_4G_weekly/L2018WK{i}.csv',header=1)\n",
    "    stat = pd.concat([stat,temp],axis=0)\n",
    "del temp"
   ]
  },
  {
   "cell_type": "code",
   "execution_count": 25,
   "metadata": {},
   "outputs": [],
   "source": [
    "stat['sector'] = stat['CELL_NAME'].apply(lambda x:x[:6]+x[-1])"
   ]
  },
  {
   "cell_type": "code",
   "execution_count": 26,
   "metadata": {},
   "outputs": [],
   "source": [
    "stat = stat[stat['sector'].apply(lambda x:x in df['sector'].values)]"
   ]
  },
  {
   "cell_type": "code",
   "execution_count": 30,
   "metadata": {},
   "outputs": [],
   "source": [
    "stat['label'] = stat['DATE_TIME'].apply(lambda x:'before' if x <45 else 'after')"
   ]
  },
  {
   "cell_type": "code",
   "execution_count": 42,
   "metadata": {},
   "outputs": [],
   "source": [
    "stat['total_traff'] = stat['AVG_TRAFFIC_DATA_DL'] + stat['AVG_TRAFFIC_DATA_UL']"
   ]
  },
  {
   "cell_type": "code",
   "execution_count": 43,
   "metadata": {},
   "outputs": [],
   "source": [
    "sum_traff = stat.groupby(['DATE_TIME'])['total_traff'].sum()"
   ]
  },
  {
   "cell_type": "code",
   "execution_count": 44,
   "metadata": {},
   "outputs": [],
   "source": [
    "import matplotlib.pyplot as plt\n",
    "%matplotlib inline"
   ]
  },
  {
   "cell_type": "code",
   "execution_count": 60,
   "metadata": {},
   "outputs": [
    {
     "data": {
      "image/png": "[encoded data removed]",
      "text/plain": [
       "<Figure size 432x288 with 1 Axes>"
      ]
     },
     "metadata": {
      "needs_background": "light"
     },
     "output_type": "display_data"
    }
   ],
   "source": [
    "_ = plt.plot(sum_traff)\n",
    "_ = plt.title('total traffic around the 2 PAs area')"
   ]
  },
  {
   "cell_type": "code",
   "execution_count": 61,
   "metadata": {},
   "outputs": [
    {
     "name": "stdout",
     "output_type": "stream",
     "text": [
      "193315.24999999988 MB\n"
     ]
    }
   ],
   "source": [
    "traff_gain = sum_traff[[45,46,47]].mean()- sum_traff[[42,43,44]].mean()\n",
    "print(traff_gain,'MB')"
   ]
  },
  {
   "cell_type": "code",
   "execution_count": null,
   "metadata": {},
   "outputs": [],
   "source": []
  }
 ],
 "metadata": {
  "kernelspec": {
   "display_name": "Python 3",
   "language": "python",
   "name": "python3"
  },
  "language_info": {
   "codemirror_mode": {
    "name": "ipython",
    "version": 3
   },
   "file_extension": ".py",
   "mimetype": "text/x-python",
   "name": "python",
   "nbconvert_exporter": "python",
   "pygments_lexer": "ipython3",
   "version": "3.6.8"
  }
 },
 "nbformat": 4,
 "nbformat_minor": 2
}
