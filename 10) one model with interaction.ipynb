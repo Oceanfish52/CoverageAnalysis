{
 "cells": [
  {
   "cell_type": "code",
   "execution_count": 6,
   "metadata": {},
   "outputs": [
    {
     "data": {
      "text/html": [
       "<style>.container { width:90% !important; }</style>"
      ],
      "text/plain": [
       "<IPython.core.display.HTML object>"
      ]
     },
     "metadata": {},
     "output_type": "display_data"
    }
   ],
   "source": [
    "import pandas as pd\n",
    "import numpy as np\n",
    "import matplotlib.pyplot as plt\n",
    "import seaborn as sns\n",
    "%matplotlib inline\n",
    "from IPython.core.display import display, HTML\n",
    "display(HTML(\"<style>.container { width:90% !important; }</style>\"))\n",
    "pd.options.display.max_columns = 999\n",
    "import myLogFun\n",
    "from sklearn.model_selection import train_test_split\n",
    "from sklearn.preprocessing import StandardScaler\n",
    "from sklearn.metrics import r2_score\n",
    "from sklearn.model_selection import GridSearchCV\n",
    "import warnings\n",
    "warnings.filterwarnings('ignore')\n",
    "import lightgbm as lgb\n",
    "from sklearn.preprocessing import PolynomialFeatures\n",
    "from tqdm import tqdm_notebook"
   ]
  },
  {
   "cell_type": "code",
   "execution_count": 3,
   "metadata": {},
   "outputs": [
    {
     "data": {
      "text/html": [
       "<div>\n",
       "<style scoped>\n",
       "    .dataframe tbody tr th:only-of-type {\n",
       "        vertical-align: middle;\n",
       "    }\n",
       "\n",
       "    .dataframe tbody tr th {\n",
       "        vertical-align: top;\n",
       "    }\n",
       "\n",
       "    .dataframe thead th {\n",
       "        text-align: right;\n",
       "    }\n",
       "</style>\n",
       "<table border=\"1\" class=\"dataframe\">\n",
       "  <thead>\n",
       "    <tr style=\"text-align: right;\">\n",
       "      <th></th>\n",
       "      <th>ln_Number of Subscribers</th>\n",
       "      <th>ln_Average DL Throughput (kbit/s)</th>\n",
       "      <th>Average UL Throughput (kbit/s)</th>\n",
       "      <th>ln_DL IBLER (%)</th>\n",
       "      <th>ln_UL IBLER (%)</th>\n",
       "      <th>DL MCS (only for Initial Transmission)</th>\n",
       "      <th>UL MCS (only for Initial Transmission)</th>\n",
       "      <th>ln_UL Spectrum Efficiency (bps/HZ)</th>\n",
       "      <th>RSRP(All MRs) (dBm)</th>\n",
       "      <th>ln_MR Count</th>\n",
       "      <th>Total Traffic Volume (MB)</th>\n",
       "      <th>cluster_id</th>\n",
       "    </tr>\n",
       "  </thead>\n",
       "  <tbody>\n",
       "    <tr>\n",
       "      <th>0</th>\n",
       "      <td>3.258097</td>\n",
       "      <td>8.668722</td>\n",
       "      <td>1023.061</td>\n",
       "      <td>2.604170</td>\n",
       "      <td>3.148882</td>\n",
       "      <td>8.0</td>\n",
       "      <td>17.0</td>\n",
       "      <td>-1.427116</td>\n",
       "      <td>-115.06</td>\n",
       "      <td>5.313206</td>\n",
       "      <td>67.130</td>\n",
       "      <td>0</td>\n",
       "    </tr>\n",
       "    <tr>\n",
       "      <th>1</th>\n",
       "      <td>3.912023</td>\n",
       "      <td>8.508687</td>\n",
       "      <td>1409.271</td>\n",
       "      <td>2.730464</td>\n",
       "      <td>3.065725</td>\n",
       "      <td>8.0</td>\n",
       "      <td>15.0</td>\n",
       "      <td>-1.171183</td>\n",
       "      <td>-114.87</td>\n",
       "      <td>6.416732</td>\n",
       "      <td>218.492</td>\n",
       "      <td>0</td>\n",
       "    </tr>\n",
       "    <tr>\n",
       "      <th>2</th>\n",
       "      <td>3.044522</td>\n",
       "      <td>8.615236</td>\n",
       "      <td>1471.403</td>\n",
       "      <td>2.679651</td>\n",
       "      <td>3.360723</td>\n",
       "      <td>7.0</td>\n",
       "      <td>16.0</td>\n",
       "      <td>-1.272966</td>\n",
       "      <td>-114.08</td>\n",
       "      <td>5.429346</td>\n",
       "      <td>109.247</td>\n",
       "      <td>0</td>\n",
       "    </tr>\n",
       "    <tr>\n",
       "      <th>3</th>\n",
       "      <td>0.693147</td>\n",
       "      <td>8.216814</td>\n",
       "      <td>865.221</td>\n",
       "      <td>2.989211</td>\n",
       "      <td>2.311545</td>\n",
       "      <td>5.0</td>\n",
       "      <td>16.0</td>\n",
       "      <td>-2.207275</td>\n",
       "      <td>-113.83</td>\n",
       "      <td>4.795791</td>\n",
       "      <td>3.864</td>\n",
       "      <td>0</td>\n",
       "    </tr>\n",
       "    <tr>\n",
       "      <th>4</th>\n",
       "      <td>3.610918</td>\n",
       "      <td>8.487582</td>\n",
       "      <td>1314.256</td>\n",
       "      <td>2.632608</td>\n",
       "      <td>3.216473</td>\n",
       "      <td>7.0</td>\n",
       "      <td>12.0</td>\n",
       "      <td>-1.347074</td>\n",
       "      <td>-113.01</td>\n",
       "      <td>5.981414</td>\n",
       "      <td>144.107</td>\n",
       "      <td>0</td>\n",
       "    </tr>\n",
       "  </tbody>\n",
       "</table>\n",
       "</div>"
      ],
      "text/plain": [
       "   ln_Number of Subscribers  ln_Average DL Throughput (kbit/s)  \\\n",
       "0                  3.258097                           8.668722   \n",
       "1                  3.912023                           8.508687   \n",
       "2                  3.044522                           8.615236   \n",
       "3                  0.693147                           8.216814   \n",
       "4                  3.610918                           8.487582   \n",
       "\n",
       "   Average UL Throughput (kbit/s)  ln_DL IBLER (%)  ln_UL IBLER (%)  \\\n",
       "0                        1023.061         2.604170         3.148882   \n",
       "1                        1409.271         2.730464         3.065725   \n",
       "2                        1471.403         2.679651         3.360723   \n",
       "3                         865.221         2.989211         2.311545   \n",
       "4                        1314.256         2.632608         3.216473   \n",
       "\n",
       "   DL MCS (only for Initial Transmission)  \\\n",
       "0                                     8.0   \n",
       "1                                     8.0   \n",
       "2                                     7.0   \n",
       "3                                     5.0   \n",
       "4                                     7.0   \n",
       "\n",
       "   UL MCS (only for Initial Transmission)  ln_UL Spectrum Efficiency (bps/HZ)  \\\n",
       "0                                    17.0                           -1.427116   \n",
       "1                                    15.0                           -1.171183   \n",
       "2                                    16.0                           -1.272966   \n",
       "3                                    16.0                           -2.207275   \n",
       "4                                    12.0                           -1.347074   \n",
       "\n",
       "   RSRP(All MRs) (dBm)  ln_MR Count  Total Traffic Volume (MB)  cluster_id  \n",
       "0              -115.06     5.313206                     67.130           0  \n",
       "1              -114.87     6.416732                    218.492           0  \n",
       "2              -114.08     5.429346                    109.247           0  \n",
       "3              -113.83     4.795791                      3.864           0  \n",
       "4              -113.01     5.981414                    144.107           0  "
      ]
     },
     "execution_count": 3,
     "metadata": {},
     "output_type": "execute_result"
    }
   ],
   "source": [
    "clustered_df = pd.read_csv('../files/cluster_df.csv')\n",
    "coor_df = clustered_df[['Latitude','Longitude']]\n",
    "clustered_df = clustered_df.drop(['Latitude','Longitude','color'],axis=1)\n",
    "clustered_df_log,log_tran_col = myLogFun.log_tran(clustered_df.copy(),['Total Traffic Volume (MB)','cluster_id'])\n",
    "clustered_df_log.head()"
   ]
  },
  {
   "cell_type": "code",
   "execution_count": 4,
   "metadata": {},
   "outputs": [],
   "source": [
    "cluster_cnt_df = pd.DataFrame(clustered_df_log['cluster_id'].value_counts()).reset_index()"
   ]
  },
  {
   "cell_type": "code",
   "execution_count": 5,
   "metadata": {},
   "outputs": [],
   "source": [
    "cluster_cnt_df.columns = ['cluster id','total grid count']"
   ]
  },
  {
   "cell_type": "code",
   "execution_count": 6,
   "metadata": {},
   "outputs": [
    {
     "data": {
      "text/html": [
       "<div>\n",
       "<style scoped>\n",
       "    .dataframe tbody tr th:only-of-type {\n",
       "        vertical-align: middle;\n",
       "    }\n",
       "\n",
       "    .dataframe tbody tr th {\n",
       "        vertical-align: top;\n",
       "    }\n",
       "\n",
       "    .dataframe thead th {\n",
       "        text-align: right;\n",
       "    }\n",
       "</style>\n",
       "<table border=\"1\" class=\"dataframe\">\n",
       "  <thead>\n",
       "    <tr style=\"text-align: right;\">\n",
       "      <th></th>\n",
       "      <th>cluster id</th>\n",
       "      <th>total grid count</th>\n",
       "    </tr>\n",
       "  </thead>\n",
       "  <tbody>\n",
       "    <tr>\n",
       "      <th>0</th>\n",
       "      <td>0</td>\n",
       "      <td>53824</td>\n",
       "    </tr>\n",
       "    <tr>\n",
       "      <th>1</th>\n",
       "      <td>1</td>\n",
       "      <td>54712</td>\n",
       "    </tr>\n",
       "    <tr>\n",
       "      <th>2</th>\n",
       "      <td>2</td>\n",
       "      <td>82274</td>\n",
       "    </tr>\n",
       "    <tr>\n",
       "      <th>3</th>\n",
       "      <td>3</td>\n",
       "      <td>39018</td>\n",
       "    </tr>\n",
       "    <tr>\n",
       "      <th>4</th>\n",
       "      <td>4</td>\n",
       "      <td>41047</td>\n",
       "    </tr>\n",
       "    <tr>\n",
       "      <th>5</th>\n",
       "      <td>5</td>\n",
       "      <td>157</td>\n",
       "    </tr>\n",
       "    <tr>\n",
       "      <th>6</th>\n",
       "      <td>6</td>\n",
       "      <td>54270</td>\n",
       "    </tr>\n",
       "  </tbody>\n",
       "</table>\n",
       "</div>"
      ],
      "text/plain": [
       "   cluster id  total grid count\n",
       "0           0             53824\n",
       "1           1             54712\n",
       "2           2             82274\n",
       "3           3             39018\n",
       "4           4             41047\n",
       "5           5               157\n",
       "6           6             54270"
      ]
     },
     "execution_count": 6,
     "metadata": {},
     "output_type": "execute_result"
    }
   ],
   "source": [
    "cluster_cnt_df.sort_values(by='cluster id').reset_index(drop=True)"
   ]
  },
  {
   "cell_type": "code",
   "execution_count": 9,
   "metadata": {},
   "outputs": [
    {
     "data": {
      "application/vnd.jupyter.widget-view+json": {
       "model_id": "a880d485735943119348a8d546599e2d",
       "version_major": 2,
       "version_minor": 0
      },
      "text/plain": [
       "HBox(children=(IntProgress(value=0, max=7), HTML(value='')))"
      ]
     },
     "metadata": {},
     "output_type": "display_data"
    },
    {
     "name": "stdout",
     "output_type": "stream",
     "text": [
      "\n"
     ]
    }
   ],
   "source": [
    "c_df_log_list = []\n",
    "X_list = []\n",
    "y_list = []\n",
    "poly_maker_list = []\n",
    "scX_list = []\n",
    "scy_list = []\n",
    "X_train_list = []\n",
    "X_test_list = []\n",
    "y_train_list = []\n",
    "y_test_list = []\n",
    "lgb_list = []\n",
    "y_pred_list = []\n",
    "r2_score_list = []\n",
    "\n",
    "for i in tqdm_notebook(range(7)):\n",
    "    \n",
    "    c_df_log_list.append(clustered_df_log[clustered_df_log['cluster_id']==i])\n",
    "    X_list.append(c_df_log_list[i].drop(['Total Traffic Volume (MB)','cluster_id'],axis=1).values)\n",
    "    y_list.append(c_df_log_list[i]['Total Traffic Volume (MB)'].values)\n",
    "    poly_maker_list.append(PolynomialFeatures(degree=2,interaction_only=True))\n",
    "    X_list[i] = poly_maker_list[i].fit_transform(X_list[i])\n",
    "    scX_list.append(StandardScaler())\n",
    "    scy_list.append(StandardScaler())\n",
    "    X_list[i] = scX_list[i].fit_transform(X_list[i])\n",
    "    y_list[i] = scy_list[i].fit_transform(y_list[i].reshape(-1,1))\n",
    "    X_train,X_test,y_train,y_test=train_test_split(X_list[i],y_list[i],test_size=0.3, random_state=42)\n",
    "    X_train_list.append(X_train)\n",
    "    X_test_list.append(X_test)\n",
    "    y_train_list.append(y_train)\n",
    "    y_test_list.append(y_test)\n",
    "    lgb_list.append(lgb.LGBMRegressor(learning_rate=0.05,n_estimators=2000,num_leaves=100))\n",
    "    lgb_list[i].fit(X_train_list[i],y_train_list[i])\n",
    "    y_pred_list.append(lgb_list[i].predict(X_test_list[i]))\n",
    "    r2_score_list.append(r2_score(y_test_list[i],y_pred_list[i]))"
   ]
  },
  {
   "cell_type": "code",
   "execution_count": 10,
   "metadata": {},
   "outputs": [
    {
     "data": {
      "text/plain": [
       "[0.5491712359414804,\n",
       " 0.6949805233207376,\n",
       " 0.5512408270826161,\n",
       " 0.6606274428428978,\n",
       " 0.7526608969323697,\n",
       " -0.03882785828671498,\n",
       " 0.5196241367683438]"
      ]
     },
     "execution_count": 10,
     "metadata": {},
     "output_type": "execute_result"
    }
   ],
   "source": [
    "r2_score_list"
   ]
  },
  {
   "cell_type": "markdown",
   "metadata": {},
   "source": [
    "feature correlation"
   ]
  },
  {
   "cell_type": "code",
   "execution_count": 26,
   "metadata": {},
   "outputs": [],
   "source": [
    "corr_list = []\n",
    "for i in range(7):\n",
    "    corr = []\n",
    "    for j in range(X_list[i].shape[1]):\n",
    "        corr.append(np.corrcoef(X_list[i][:,j],X_list[i][:,8])[0][1])\n",
    "    corr = np.array(corr)\n",
    "    corr_list.append(corr)"
   ]
  },
  {
   "cell_type": "markdown",
   "metadata": {},
   "source": [
    "# Bring in the PA"
   ]
  },
  {
   "cell_type": "code",
   "execution_count": 29,
   "metadata": {},
   "outputs": [],
   "source": [
    "import fiona\n",
    "from shapely.geometry import Point\n",
    "from shapely.geometry.polygon import Polygon\n",
    "pa = fiona.open(\"../files/shape files/RNC_PA_region.shp\")"
   ]
  },
  {
   "cell_type": "code",
   "execution_count": 30,
   "metadata": {},
   "outputs": [],
   "source": [
    "pa_poly = [Polygon(item['geometry']['coordinates'][0]) for item in pa]"
   ]
  },
  {
   "cell_type": "code",
   "execution_count": 36,
   "metadata": {},
   "outputs": [
    {
     "data": {
      "application/vnd.jupyter.widget-view+json": {
       "model_id": "bcf983a5f9874012b0ebf9c8da81ae65",
       "version_major": 2,
       "version_minor": 0
      },
      "text/plain": [
       "HBox(children=(IntProgress(value=0, max=7), HTML(value='')))"
      ]
     },
     "metadata": {},
     "output_type": "display_data"
    },
    {
     "name": "stdout",
     "output_type": "stream",
     "text": [
      "\n"
     ]
    }
   ],
   "source": [
    "from tqdm import tqdm_notebook\n",
    "\n",
    "for i in tqdm_notebook(range(7)):\n",
    "\n",
    "    target_rsrp = -80\n",
    "    rsrp_arr = np.zeros((10,))\n",
    "    rsrp_arr[8] = target_rsrp\n",
    "    rsrp_arr_tran = scX_list[i].transform(rsrp_arr.reshape(1,-1))[0]\n",
    "\n",
    "    pred_traff=[]\n",
    "    for j in range(X_list[i].shape[0]):\n",
    "\n",
    "        num_feat = X_list[i][j,:10]\n",
    "\n",
    "        diff_sc = rsrp_arr_tran[8] - num_feat[8]\n",
    "\n",
    "        new_num_feat = num_feat + diff_sc*corr\n",
    "\n",
    "        pred_traff.append(scy.inverse_transform(model_lgb.predict(new_num_feat.reshape(1,-1)))[0])\n",
    "\n",
    "    c_df_log_list[i]['pred_traffic'] = pred_traff\n",
    "    c_df_log_list[i]['pred_improved_traffic'] = c_df_log_list[i]['pred_traffic'] - c_df_log_list[i]['Total Traffic Volume (MB)']"
   ]
  },
  {
   "cell_type": "code",
   "execution_count": 43,
   "metadata": {},
   "outputs": [],
   "source": [
    "c_df_log = pd.concat([c_df_log_list[0], c_df_log_list[1], c_df_log_list[2], c_df_log_list[3],\n",
    "                     c_df_log_list[4], c_df_log_list[5], c_df_log_list[6]],axis=0)"
   ]
  },
  {
   "cell_type": "code",
   "execution_count": 44,
   "metadata": {},
   "outputs": [
    {
     "name": "stdout",
     "output_type": "stream",
     "text": [
      "master df shape: (325302, 17)\n",
      "lat lng df shape: (325302, 3)\n"
     ]
    }
   ],
   "source": [
    "c_df_log.sort_index(inplace=True)\n",
    "c_df_log = pd.concat([c_df_log,coor_df],axis=1)\n",
    "print('master df shape:',c_df_log.shape)\n",
    "print('lat lng df shape:',coor_df.shape)"
   ]
  },
  {
   "cell_type": "code",
   "execution_count": 45,
   "metadata": {},
   "outputs": [
    {
     "data": {
      "text/html": [
       "<div>\n",
       "<style scoped>\n",
       "    .dataframe tbody tr th:only-of-type {\n",
       "        vertical-align: middle;\n",
       "    }\n",
       "\n",
       "    .dataframe tbody tr th {\n",
       "        vertical-align: top;\n",
       "    }\n",
       "\n",
       "    .dataframe thead th {\n",
       "        text-align: right;\n",
       "    }\n",
       "</style>\n",
       "<table border=\"1\" class=\"dataframe\">\n",
       "  <thead>\n",
       "    <tr style=\"text-align: right;\">\n",
       "      <th></th>\n",
       "      <th>ln_Number of Subscribers</th>\n",
       "      <th>ln_Average DL Throughput (kbit/s)</th>\n",
       "      <th>Average UL Throughput (kbit/s)</th>\n",
       "      <th>ln_DL IBLER (%)</th>\n",
       "      <th>ln_UL IBLER (%)</th>\n",
       "      <th>DL MCS (only for Initial Transmission)</th>\n",
       "      <th>UL MCS (only for Initial Transmission)</th>\n",
       "      <th>ln_UL Spectrum Efficiency (bps/HZ)</th>\n",
       "      <th>RSRP(All MRs) (dBm)</th>\n",
       "      <th>ln_MR Count</th>\n",
       "      <th>Total Traffic Volume (MB)</th>\n",
       "      <th>cluster_id</th>\n",
       "      <th>pred_traffic</th>\n",
       "      <th>pred_improved_traffic</th>\n",
       "      <th>Latitude</th>\n",
       "      <th>Longitude</th>\n",
       "      <th>cluster_id</th>\n",
       "    </tr>\n",
       "  </thead>\n",
       "  <tbody>\n",
       "    <tr>\n",
       "      <th>0</th>\n",
       "      <td>3.258097</td>\n",
       "      <td>8.668722</td>\n",
       "      <td>1023.061</td>\n",
       "      <td>2.604170</td>\n",
       "      <td>3.148882</td>\n",
       "      <td>8.0</td>\n",
       "      <td>17.0</td>\n",
       "      <td>-1.427116</td>\n",
       "      <td>-115.06</td>\n",
       "      <td>5.313206</td>\n",
       "      <td>67.130</td>\n",
       "      <td>0</td>\n",
       "      <td>18313.967942</td>\n",
       "      <td>18246.837942</td>\n",
       "      <td>13.587841</td>\n",
       "      <td>100.549038</td>\n",
       "      <td>0</td>\n",
       "    </tr>\n",
       "    <tr>\n",
       "      <th>1</th>\n",
       "      <td>3.912023</td>\n",
       "      <td>8.508687</td>\n",
       "      <td>1409.271</td>\n",
       "      <td>2.730464</td>\n",
       "      <td>3.065725</td>\n",
       "      <td>8.0</td>\n",
       "      <td>15.0</td>\n",
       "      <td>-1.171183</td>\n",
       "      <td>-114.87</td>\n",
       "      <td>6.416732</td>\n",
       "      <td>218.492</td>\n",
       "      <td>0</td>\n",
       "      <td>23348.110106</td>\n",
       "      <td>23129.618106</td>\n",
       "      <td>13.587841</td>\n",
       "      <td>100.549488</td>\n",
       "      <td>0</td>\n",
       "    </tr>\n",
       "    <tr>\n",
       "      <th>2</th>\n",
       "      <td>3.044522</td>\n",
       "      <td>8.615236</td>\n",
       "      <td>1471.403</td>\n",
       "      <td>2.679651</td>\n",
       "      <td>3.360723</td>\n",
       "      <td>7.0</td>\n",
       "      <td>16.0</td>\n",
       "      <td>-1.272966</td>\n",
       "      <td>-114.08</td>\n",
       "      <td>5.429346</td>\n",
       "      <td>109.247</td>\n",
       "      <td>0</td>\n",
       "      <td>19545.125447</td>\n",
       "      <td>19435.878447</td>\n",
       "      <td>13.588740</td>\n",
       "      <td>100.549038</td>\n",
       "      <td>0</td>\n",
       "    </tr>\n",
       "    <tr>\n",
       "      <th>3</th>\n",
       "      <td>0.693147</td>\n",
       "      <td>8.216814</td>\n",
       "      <td>865.221</td>\n",
       "      <td>2.989211</td>\n",
       "      <td>2.311545</td>\n",
       "      <td>5.0</td>\n",
       "      <td>16.0</td>\n",
       "      <td>-2.207275</td>\n",
       "      <td>-113.83</td>\n",
       "      <td>4.795791</td>\n",
       "      <td>3.864</td>\n",
       "      <td>0</td>\n",
       "      <td>2998.125037</td>\n",
       "      <td>2994.261037</td>\n",
       "      <td>13.950268</td>\n",
       "      <td>100.900223</td>\n",
       "      <td>0</td>\n",
       "    </tr>\n",
       "    <tr>\n",
       "      <th>4</th>\n",
       "      <td>3.610918</td>\n",
       "      <td>8.487582</td>\n",
       "      <td>1314.256</td>\n",
       "      <td>2.632608</td>\n",
       "      <td>3.216473</td>\n",
       "      <td>7.0</td>\n",
       "      <td>12.0</td>\n",
       "      <td>-1.347074</td>\n",
       "      <td>-113.01</td>\n",
       "      <td>5.981414</td>\n",
       "      <td>144.107</td>\n",
       "      <td>0</td>\n",
       "      <td>16380.262202</td>\n",
       "      <td>16236.155202</td>\n",
       "      <td>13.588291</td>\n",
       "      <td>100.549038</td>\n",
       "      <td>0</td>\n",
       "    </tr>\n",
       "  </tbody>\n",
       "</table>\n",
       "</div>"
      ],
      "text/plain": [
       "   ln_Number of Subscribers  ln_Average DL Throughput (kbit/s)  \\\n",
       "0                  3.258097                           8.668722   \n",
       "1                  3.912023                           8.508687   \n",
       "2                  3.044522                           8.615236   \n",
       "3                  0.693147                           8.216814   \n",
       "4                  3.610918                           8.487582   \n",
       "\n",
       "   Average UL Throughput (kbit/s)  ln_DL IBLER (%)  ln_UL IBLER (%)  \\\n",
       "0                        1023.061         2.604170         3.148882   \n",
       "1                        1409.271         2.730464         3.065725   \n",
       "2                        1471.403         2.679651         3.360723   \n",
       "3                         865.221         2.989211         2.311545   \n",
       "4                        1314.256         2.632608         3.216473   \n",
       "\n",
       "   DL MCS (only for Initial Transmission)  \\\n",
       "0                                     8.0   \n",
       "1                                     8.0   \n",
       "2                                     7.0   \n",
       "3                                     5.0   \n",
       "4                                     7.0   \n",
       "\n",
       "   UL MCS (only for Initial Transmission)  ln_UL Spectrum Efficiency (bps/HZ)  \\\n",
       "0                                    17.0                           -1.427116   \n",
       "1                                    15.0                           -1.171183   \n",
       "2                                    16.0                           -1.272966   \n",
       "3                                    16.0                           -2.207275   \n",
       "4                                    12.0                           -1.347074   \n",
       "\n",
       "   RSRP(All MRs) (dBm)  ln_MR Count  Total Traffic Volume (MB)  cluster_id  \\\n",
       "0              -115.06     5.313206                     67.130           0   \n",
       "1              -114.87     6.416732                    218.492           0   \n",
       "2              -114.08     5.429346                    109.247           0   \n",
       "3              -113.83     4.795791                      3.864           0   \n",
       "4              -113.01     5.981414                    144.107           0   \n",
       "\n",
       "   pred_traffic  pred_improved_traffic   Latitude   Longitude  cluster_id  \n",
       "0  18313.967942           18246.837942  13.587841  100.549038           0  \n",
       "1  23348.110106           23129.618106  13.587841  100.549488           0  \n",
       "2  19545.125447           19435.878447  13.588740  100.549038           0  \n",
       "3   2998.125037            2994.261037  13.950268  100.900223           0  \n",
       "4  16380.262202           16236.155202  13.588291  100.549038           0  "
      ]
     },
     "execution_count": 45,
     "metadata": {},
     "output_type": "execute_result"
    }
   ],
   "source": [
    "c_df_log.head()"
   ]
  },
  {
   "cell_type": "code",
   "execution_count": 47,
   "metadata": {},
   "outputs": [
    {
     "name": "stderr",
     "output_type": "stream",
     "text": [
      "100%|██████████| 325302/325302 [13:47<00:00, 393.14it/s]\n"
     ]
    }
   ],
   "source": [
    "from tqdm import tqdm\n",
    "tqdm.pandas()\n",
    "\n",
    "def map_coor2cid(x):\n",
    "    point = Point(x['Longitude'],x['Latitude'])\n",
    "    for i,pa in enumerate(pa_poly):\n",
    "        if pa.contains(point):\n",
    "            return i\n",
    "        \n",
    "c_df_log['pa_id'] = c_df_log.progress_apply(map_coor2cid,axis=1)"
   ]
  },
  {
   "cell_type": "code",
   "execution_count": 49,
   "metadata": {},
   "outputs": [],
   "source": [
    "pa_df = pd.DataFrame(c_df_log.groupby('pa_id')['pred_improved_traffic'].sum()).reset_index()"
   ]
  },
  {
   "cell_type": "code",
   "execution_count": 50,
   "metadata": {},
   "outputs": [
    {
     "name": "stderr",
     "output_type": "stream",
     "text": [
      "100%|██████████| 450/450 [00:00<00:00, 29340.83it/s]\n"
     ]
    }
   ],
   "source": [
    "# find each pa center\n",
    "pa_lng_center = []\n",
    "pa_lat_center = []\n",
    "for item in tqdm(pa):\n",
    "    lng_sum = 0\n",
    "    lat_sum = 0\n",
    "    for coor in item['geometry']['coordinates'][0]:\n",
    "        lng_sum+=coor[0]\n",
    "        lat_sum+=coor[1]\n",
    "    \n",
    "    pa_lng_center.append(lng_sum/len(item['geometry']['coordinates'][0]))\n",
    "    pa_lat_center.append(lat_sum/len(item['geometry']['coordinates'][0]))"
   ]
  },
  {
   "cell_type": "code",
   "execution_count": 51,
   "metadata": {},
   "outputs": [],
   "source": [
    "pa_df_2 = pd.DataFrame({'pa_id':range(450),'lng':pa_lng_center,'lat':pa_lat_center})"
   ]
  },
  {
   "cell_type": "code",
   "execution_count": 52,
   "metadata": {},
   "outputs": [],
   "source": [
    "pa_df = pd.merge(pa_df,pa_df_2,on='pa_id')"
   ]
  },
  {
   "cell_type": "code",
   "execution_count": 53,
   "metadata": {},
   "outputs": [
    {
     "data": {
      "text/html": [
       "<div>\n",
       "<style scoped>\n",
       "    .dataframe tbody tr th:only-of-type {\n",
       "        vertical-align: middle;\n",
       "    }\n",
       "\n",
       "    .dataframe tbody tr th {\n",
       "        vertical-align: top;\n",
       "    }\n",
       "\n",
       "    .dataframe thead th {\n",
       "        text-align: right;\n",
       "    }\n",
       "</style>\n",
       "<table border=\"1\" class=\"dataframe\">\n",
       "  <thead>\n",
       "    <tr style=\"text-align: right;\">\n",
       "      <th></th>\n",
       "      <th>pa_id</th>\n",
       "      <th>pred_improved_traffic</th>\n",
       "      <th>lng</th>\n",
       "      <th>lat</th>\n",
       "    </tr>\n",
       "  </thead>\n",
       "  <tbody>\n",
       "    <tr>\n",
       "      <th>0</th>\n",
       "      <td>2.0</td>\n",
       "      <td>3.139532e+03</td>\n",
       "      <td>100.765343</td>\n",
       "      <td>14.038855</td>\n",
       "    </tr>\n",
       "    <tr>\n",
       "      <th>1</th>\n",
       "      <td>3.0</td>\n",
       "      <td>8.149776e+04</td>\n",
       "      <td>100.716572</td>\n",
       "      <td>13.940437</td>\n",
       "    </tr>\n",
       "    <tr>\n",
       "      <th>2</th>\n",
       "      <td>4.0</td>\n",
       "      <td>2.145318e+06</td>\n",
       "      <td>100.719748</td>\n",
       "      <td>13.921862</td>\n",
       "    </tr>\n",
       "    <tr>\n",
       "      <th>3</th>\n",
       "      <td>5.0</td>\n",
       "      <td>2.587559e+04</td>\n",
       "      <td>100.736650</td>\n",
       "      <td>13.940515</td>\n",
       "    </tr>\n",
       "    <tr>\n",
       "      <th>4</th>\n",
       "      <td>7.0</td>\n",
       "      <td>1.371955e+05</td>\n",
       "      <td>100.711425</td>\n",
       "      <td>13.869243</td>\n",
       "    </tr>\n",
       "  </tbody>\n",
       "</table>\n",
       "</div>"
      ],
      "text/plain": [
       "   pa_id  pred_improved_traffic         lng        lat\n",
       "0    2.0           3.139532e+03  100.765343  14.038855\n",
       "1    3.0           8.149776e+04  100.716572  13.940437\n",
       "2    4.0           2.145318e+06  100.719748  13.921862\n",
       "3    5.0           2.587559e+04  100.736650  13.940515\n",
       "4    7.0           1.371955e+05  100.711425  13.869243"
      ]
     },
     "execution_count": 53,
     "metadata": {},
     "output_type": "execute_result"
    }
   ],
   "source": [
    "pa_df.head()"
   ]
  },
  {
   "cell_type": "code",
   "execution_count": 54,
   "metadata": {},
   "outputs": [],
   "source": [
    "import pandas as pd\n",
    "pa_df.to_csv('pa_traffic.csv',index=False)\n",
    "#pa_df = pd.read_csv('pa_traffic.csv')"
   ]
  },
  {
   "cell_type": "code",
   "execution_count": 55,
   "metadata": {},
   "outputs": [],
   "source": [
    "pa_df['size'] = (pa_df['pred_improved_traffic'] - pa_df['pred_improved_traffic'].min())/(pa_df['pred_improved_traffic'].max() - pa_df['pred_improved_traffic'].min())*50\n",
    "\n",
    "from bokeh.io import output_file,show\n",
    "from bokeh.plotting import figure\n",
    "from bokeh.models import ColumnDataSource\n",
    "from bokeh.models import HoverTool\n",
    "\n",
    "plot = figure(plot_width=1000,title='predicted traffic gain(MB) from coverage improvement of each PA(Problem Area)')\n",
    "source = ColumnDataSource(pa_df)\n",
    "plot.circle('lng','lat',source=source,size='size',fill_alpha=0.2)\n",
    "hover = HoverTool(tooltips=[('pa id', '@pa_id'),('predicted traffic gain (MB)', '@pred_improved_traffic')])\n",
    "plot.add_tools(hover)\n",
    "\n",
    "output_file('pa.html')\n",
    "show(plot)"
   ]
  }
 ],
 "metadata": {
  "kernelspec": {
   "display_name": "Python 3",
   "language": "python",
   "name": "python3"
  },
  "language_info": {
   "codemirror_mode": {
    "name": "ipython",
    "version": 3
   },
   "file_extension": ".py",
   "mimetype": "text/x-python",
   "name": "python",
   "nbconvert_exporter": "python",
   "pygments_lexer": "ipython3",
   "version": "3.6.8"
  }
 },
 "nbformat": 4,
 "nbformat_minor": 2
}
