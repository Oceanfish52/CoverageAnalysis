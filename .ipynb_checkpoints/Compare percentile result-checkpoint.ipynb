{
 "cells": [
  {
   "cell_type": "code",
   "execution_count": 46,
   "metadata": {},
   "outputs": [
    {
     "data": {
      "text/html": [
       "<style>.container { width:90% !important; }</style>"
      ],
      "text/plain": [
       "<IPython.core.display.HTML object>"
      ]
     },
     "metadata": {},
     "output_type": "display_data"
    }
   ],
   "source": [
    "import pandas as pd\n",
    "import numpy as np\n",
    "from scipy import stats\n",
    "import matplotlib.pyplot as plt\n",
    "import seaborn as sns\n",
    "%matplotlib inline\n",
    "from IPython.core.display import display, HTML\n",
    "display(HTML(\"<style>.container { width:90% !important; }</style>\"))\n",
    "pd.options.display.max_columns = 999\n",
    "pd.options.display.max_rows = 100"
   ]
  },
  {
   "cell_type": "code",
   "execution_count": 47,
   "metadata": {},
   "outputs": [
    {
     "data": {
      "text/html": [
       "<div>\n",
       "<style scoped>\n",
       "    .dataframe tbody tr th:only-of-type {\n",
       "        vertical-align: middle;\n",
       "    }\n",
       "\n",
       "    .dataframe tbody tr th {\n",
       "        vertical-align: top;\n",
       "    }\n",
       "\n",
       "    .dataframe thead th {\n",
       "        text-align: right;\n",
       "    }\n",
       "</style>\n",
       "<table border=\"1\" class=\"dataframe\">\n",
       "  <thead>\n",
       "    <tr style=\"text-align: right;\">\n",
       "      <th></th>\n",
       "      <th>Latitude</th>\n",
       "      <th>Longitude</th>\n",
       "      <th>RSRP(All MRs) (dBm)</th>\n",
       "      <th>Total Traffic Volume (MB)</th>\n",
       "      <th>coverage bin</th>\n",
       "    </tr>\n",
       "  </thead>\n",
       "  <tbody>\n",
       "    <tr>\n",
       "      <th>0</th>\n",
       "      <td>13.587841</td>\n",
       "      <td>100.549038</td>\n",
       "      <td>-115.06</td>\n",
       "      <td>67.130</td>\n",
       "      <td>(-125, -115]</td>\n",
       "    </tr>\n",
       "    <tr>\n",
       "      <th>1</th>\n",
       "      <td>13.587841</td>\n",
       "      <td>100.549488</td>\n",
       "      <td>-114.87</td>\n",
       "      <td>218.492</td>\n",
       "      <td>(-115, -105]</td>\n",
       "    </tr>\n",
       "    <tr>\n",
       "      <th>2</th>\n",
       "      <td>13.588740</td>\n",
       "      <td>100.549038</td>\n",
       "      <td>-114.08</td>\n",
       "      <td>109.247</td>\n",
       "      <td>(-115, -105]</td>\n",
       "    </tr>\n",
       "    <tr>\n",
       "      <th>3</th>\n",
       "      <td>13.950268</td>\n",
       "      <td>100.900223</td>\n",
       "      <td>-113.83</td>\n",
       "      <td>3.864</td>\n",
       "      <td>(-115, -105]</td>\n",
       "    </tr>\n",
       "    <tr>\n",
       "      <th>4</th>\n",
       "      <td>13.588291</td>\n",
       "      <td>100.549038</td>\n",
       "      <td>-113.01</td>\n",
       "      <td>144.107</td>\n",
       "      <td>(-115, -105]</td>\n",
       "    </tr>\n",
       "  </tbody>\n",
       "</table>\n",
       "</div>"
      ],
      "text/plain": [
       "    Latitude   Longitude  RSRP(All MRs) (dBm)  Total Traffic Volume (MB)  \\\n",
       "0  13.587841  100.549038              -115.06                     67.130   \n",
       "1  13.587841  100.549488              -114.87                    218.492   \n",
       "2  13.588740  100.549038              -114.08                    109.247   \n",
       "3  13.950268  100.900223              -113.83                      3.864   \n",
       "4  13.588291  100.549038              -113.01                    144.107   \n",
       "\n",
       "   coverage bin  \n",
       "0  (-125, -115]  \n",
       "1  (-115, -105]  \n",
       "2  (-115, -105]  \n",
       "3  (-115, -105]  \n",
       "4  (-115, -105]  "
      ]
     },
     "execution_count": 47,
     "metadata": {},
     "output_type": "execute_result"
    }
   ],
   "source": [
    "# read in the Feb data\n",
    "df_before = pd.read_csv('../files/Traffic_coverage_BKK_280117.csv')\n",
    "\n",
    "df_before['coverage bin'] = pd.cut(df_before['RSRP(All MRs) (dBm)'],bins=bins,labels=['(-135,-125)','(-125,-115)','(-115,-105)','(-105,-95)','(-95,-85)','(-85,-75)','(-75,-65)','(-65,-55)'],include_lowest=True)\n",
    "df_before = df_before[['Latitude','Longitude','RSRP(All MRs) (dBm)','Total Traffic Volume (MB)','coverage bin']]\n",
    "df_before.head()"
   ]
  },
  {
   "cell_type": "code",
   "execution_count": 48,
   "metadata": {},
   "outputs": [],
   "source": [
    "# read in the new data\n",
    "dca = pd.read_csv('../src/dca_291118.csv')\n",
    "dla_1 = pd.read_csv('../src/LTE-FDD_traffic_Grid_2018113009523030927/LTE-FDD_traffic_Grid_2018113009523030927.csv')\n",
    "dla_2 = pd.read_csv('../src/LTE-FDD_traffic_Grid_2018113009523030927/LTE-FDD_traffic_Grid_2018113009523030927_1.csv')\n",
    "dla = pd.concat([dla_1,dla_2],axis=0)\n",
    "del dla_1,dla_2"
   ]
  },
  {
   "cell_type": "code",
   "execution_count": 49,
   "metadata": {},
   "outputs": [],
   "source": [
    "dca.set_index(['Latitude','Longitude'],inplace=True)\n",
    "dla.set_index(['Latitude','Longitude'],inplace=True)\n",
    "df_after = dca.join(dla,how='inner',lsuffix='_dca',rsuffix='_dla')\n",
    "del dca,dla"
   ]
  },
  {
   "cell_type": "code",
   "execution_count": 50,
   "metadata": {},
   "outputs": [],
   "source": [
    "bins = pd.IntervalIndex.from_tuples([(-135,-125),(-125,-115),(-115,-105),(-105,-95),(-95,-85),(-85,-75),(-75,-65),(-65,-55)])\n",
    "df_after['coverage bin'] = pd.cut(df_after['RSRP(All MRs) (dBm)'],bins=bins,labels=['(-135,-125)','(-125,-115)','(-115,-105)','(-105,-95)','(-95,-85)','(-85,-75)','(-75,-65)','(-65,-55)'],include_lowest=True)\n",
    "\n",
    "df_after = df_after[['RSRP(All MRs) (dBm)','Total Traffic Volume (MB)','coverage bin']]"
   ]
  },
  {
   "cell_type": "code",
   "execution_count": 51,
   "metadata": {},
   "outputs": [
    {
     "data": {
      "text/html": [
       "<div>\n",
       "<style scoped>\n",
       "    .dataframe tbody tr th:only-of-type {\n",
       "        vertical-align: middle;\n",
       "    }\n",
       "\n",
       "    .dataframe tbody tr th {\n",
       "        vertical-align: top;\n",
       "    }\n",
       "\n",
       "    .dataframe thead th {\n",
       "        text-align: right;\n",
       "    }\n",
       "</style>\n",
       "<table border=\"1\" class=\"dataframe\">\n",
       "  <thead>\n",
       "    <tr style=\"text-align: right;\">\n",
       "      <th></th>\n",
       "      <th>Latitude</th>\n",
       "      <th>Longitude</th>\n",
       "      <th>RSRP(All MRs) (dBm)</th>\n",
       "      <th>Total Traffic Volume (MB)</th>\n",
       "      <th>coverage bin</th>\n",
       "    </tr>\n",
       "  </thead>\n",
       "  <tbody>\n",
       "    <tr>\n",
       "      <th>0</th>\n",
       "      <td>13.461036</td>\n",
       "      <td>100.858384</td>\n",
       "      <td>-103.0</td>\n",
       "      <td>0.040</td>\n",
       "      <td>(-105, -95]</td>\n",
       "    </tr>\n",
       "    <tr>\n",
       "      <th>1</th>\n",
       "      <td>13.461486</td>\n",
       "      <td>100.848189</td>\n",
       "      <td>-95.0</td>\n",
       "      <td>0.006</td>\n",
       "      <td>(-105, -95]</td>\n",
       "    </tr>\n",
       "    <tr>\n",
       "      <th>2</th>\n",
       "      <td>13.461486</td>\n",
       "      <td>100.851897</td>\n",
       "      <td>-104.0</td>\n",
       "      <td>0.000</td>\n",
       "      <td>(-105, -95]</td>\n",
       "    </tr>\n",
       "    <tr>\n",
       "      <th>3</th>\n",
       "      <td>13.461486</td>\n",
       "      <td>100.863018</td>\n",
       "      <td>-83.5</td>\n",
       "      <td>0.766</td>\n",
       "      <td>(-85, -75]</td>\n",
       "    </tr>\n",
       "    <tr>\n",
       "      <th>4</th>\n",
       "      <td>13.461935</td>\n",
       "      <td>100.864408</td>\n",
       "      <td>-94.0</td>\n",
       "      <td>0.000</td>\n",
       "      <td>(-95, -85]</td>\n",
       "    </tr>\n",
       "  </tbody>\n",
       "</table>\n",
       "</div>"
      ],
      "text/plain": [
       "    Latitude   Longitude  RSRP(All MRs) (dBm)  Total Traffic Volume (MB)  \\\n",
       "0  13.461036  100.858384               -103.0                      0.040   \n",
       "1  13.461486  100.848189                -95.0                      0.006   \n",
       "2  13.461486  100.851897               -104.0                      0.000   \n",
       "3  13.461486  100.863018                -83.5                      0.766   \n",
       "4  13.461935  100.864408                -94.0                      0.000   \n",
       "\n",
       "  coverage bin  \n",
       "0  (-105, -95]  \n",
       "1  (-105, -95]  \n",
       "2  (-105, -95]  \n",
       "3   (-85, -75]  \n",
       "4   (-95, -85]  "
      ]
     },
     "execution_count": 51,
     "metadata": {},
     "output_type": "execute_result"
    }
   ],
   "source": [
    "df_after.reset_index(inplace=True)\n",
    "df_after.head()"
   ]
  },
  {
   "cell_type": "code",
   "execution_count": 52,
   "metadata": {},
   "outputs": [
    {
     "name": "stderr",
     "output_type": "stream",
     "text": [
      "/Users/witchapong/anaconda3/lib/python3.6/site-packages/ipykernel_launcher.py:10: SettingWithCopyWarning: \n",
      "A value is trying to be set on a copy of a slice from a DataFrame.\n",
      "Try using .loc[row_indexer,col_indexer] = value instead\n",
      "\n",
      "See the caveats in the documentation: http://pandas.pydata.org/pandas-docs/stable/indexing.html#indexing-view-versus-copy\n",
      "  # Remove the CWD from sys.path while we load stuff.\n",
      "/Users/witchapong/anaconda3/lib/python3.6/site-packages/ipykernel_launcher.py:14: SettingWithCopyWarning: \n",
      "A value is trying to be set on a copy of a slice from a DataFrame.\n",
      "Try using .loc[row_indexer,col_indexer] = value instead\n",
      "\n",
      "See the caveats in the documentation: http://pandas.pydata.org/pandas-docs/stable/indexing.html#indexing-view-versus-copy\n",
      "  \n",
      "/Users/witchapong/anaconda3/lib/python3.6/site-packages/ipykernel_launcher.py:16: SettingWithCopyWarning: \n",
      "A value is trying to be set on a copy of a slice from a DataFrame.\n",
      "Try using .loc[row_indexer,col_indexer] = value instead\n",
      "\n",
      "See the caveats in the documentation: http://pandas.pydata.org/pandas-docs/stable/indexing.html#indexing-view-versus-copy\n",
      "  app.launch_new_instance()\n"
     ]
    }
   ],
   "source": [
    "# calculate the 'in-bin' percentile for Feb data\n",
    "traff_target = df_before[df_before['coverage bin']==bins[5]]['Total Traffic Volume (MB)'].values\n",
    "\n",
    "df_est_all_before = pd.DataFrame(data=None,columns=df_before.columns.tolist()+['pct','est_traff'])\n",
    "for idx in range(8):\n",
    "    \n",
    "    sub_df = df_before[df_before['coverage bin']==bins[idx]]\n",
    "    traff = sub_df['Total Traffic Volume (MB)'].values\n",
    "    pct_t = stats.rankdata(traff, 'min')/len(traff)*100\n",
    "    sub_df['pct'] = pct_t\n",
    "    \n",
    "    if idx<5:\n",
    "        est_traff = np.percentile(traff_target,pct_t)\n",
    "        sub_df['est_traff'] = est_traff\n",
    "    else:\n",
    "        sub_df['est_traff'] = sub_df['Total Traffic Volume (MB)']\n",
    "    \n",
    "    df_est_all_before = pd.concat([df_est_all_before,sub_df],axis=0)"
   ]
  },
  {
   "cell_type": "code",
   "execution_count": 53,
   "metadata": {},
   "outputs": [
    {
     "name": "stderr",
     "output_type": "stream",
     "text": [
      "/Users/witchapong/anaconda3/lib/python3.6/site-packages/ipykernel_launcher.py:9: SettingWithCopyWarning: \n",
      "A value is trying to be set on a copy of a slice from a DataFrame.\n",
      "Try using .loc[row_indexer,col_indexer] = value instead\n",
      "\n",
      "See the caveats in the documentation: http://pandas.pydata.org/pandas-docs/stable/indexing.html#indexing-view-versus-copy\n",
      "  if __name__ == '__main__':\n"
     ]
    }
   ],
   "source": [
    "# calculate the 'in-bin' percentile for new data\n",
    "df_after_w_pct = pd.DataFrame(data=None,columns=df_before.columns.tolist()+['pct'])\n",
    "\n",
    "for idx in range(8):\n",
    "    \n",
    "    sub_df = df_after[df_after['coverage bin']==bins[idx]]\n",
    "    traff = sub_df['Total Traffic Volume (MB)'].values\n",
    "    pct_t = stats.rankdata(traff, 'min')/len(traff)*100\n",
    "    sub_df['pct'] = pct_t    \n",
    "    df_after_w_pct = pd.concat([df_after_w_pct,sub_df],axis=0)"
   ]
  },
  {
   "cell_type": "code",
   "execution_count": 54,
   "metadata": {},
   "outputs": [],
   "source": [
    "# the lat lon from the two df can't be join!\n",
    "df_est_all_before.set_index(['Latitude','Longitude'],inplace=True)\n",
    "df_after_w_pct.set_index(['Latitude','Longitude'],inplace=True)\n",
    "df_all = df_est_all_before.join(df_after_w_pct,how='left',lsuffix='_before',rsuffix='_after')\n",
    "\n",
    "df_all.reset_index(inplace=True)"
   ]
  },
  {
   "cell_type": "code",
   "execution_count": 65,
   "metadata": {},
   "outputs": [],
   "source": [
    "lower_left_coord = (13.724265, 100.678960)\n",
    "upper_right_coord = (13.732498, 100.702381)"
   ]
  },
  {
   "cell_type": "code",
   "execution_count": 66,
   "metadata": {},
   "outputs": [],
   "source": [
    "df_est_all_before.reset_index(inplace=True)\n",
    "df_after_w_pct.reset_index(inplace=True)"
   ]
  },
  {
   "cell_type": "code",
   "execution_count": 68,
   "metadata": {},
   "outputs": [],
   "source": [
    "# filter grids of before data\n",
    "df_before_filtered = df_est_all_before[df_est_all_before.apply(lambda x: (lower_left_coord[0]<x['Latitude']<upper_right_coord[0]) &\\\n",
    "                        (lower_left_coord[1]<x['Longitude']<upper_right_coord[1]),axis=1)]"
   ]
  },
  {
   "cell_type": "code",
   "execution_count": 70,
   "metadata": {},
   "outputs": [
    {
     "data": {
      "text/plain": [
       "(713, 7)"
      ]
     },
     "execution_count": 70,
     "metadata": {},
     "output_type": "execute_result"
    }
   ],
   "source": [
    "df_before_filtered.shape"
   ]
  },
  {
   "cell_type": "code",
   "execution_count": 71,
   "metadata": {},
   "outputs": [],
   "source": [
    "# filter grids of after data\n",
    "df_after_filtered = df_after_w_pct[df_after_w_pct.apply(lambda x: (lower_left_coord[0]<x['Latitude']<upper_right_coord[0]) &\\\n",
    "                        (lower_left_coord[1]<x['Longitude']<upper_right_coord[1]),axis=1)]"
   ]
  },
  {
   "cell_type": "code",
   "execution_count": 72,
   "metadata": {},
   "outputs": [
    {
     "data": {
      "text/plain": [
       "(918, 6)"
      ]
     },
     "execution_count": 72,
     "metadata": {},
     "output_type": "execute_result"
    }
   ],
   "source": [
    "df_after_filtered.shape"
   ]
  },
  {
   "cell_type": "markdown",
   "metadata": {},
   "source": [
    "Visualization!"
   ]
  },
  {
   "cell_type": "code",
   "execution_count": 73,
   "metadata": {},
   "outputs": [
    {
     "data": {
      "text/html": [
       "<div>\n",
       "<style scoped>\n",
       "    .dataframe tbody tr th:only-of-type {\n",
       "        vertical-align: middle;\n",
       "    }\n",
       "\n",
       "    .dataframe tbody tr th {\n",
       "        vertical-align: top;\n",
       "    }\n",
       "\n",
       "    .dataframe thead th {\n",
       "        text-align: right;\n",
       "    }\n",
       "</style>\n",
       "<table border=\"1\" class=\"dataframe\">\n",
       "  <thead>\n",
       "    <tr style=\"text-align: right;\">\n",
       "      <th></th>\n",
       "      <th>Latitude</th>\n",
       "      <th>Longitude</th>\n",
       "      <th>RSRP(All MRs) (dBm)</th>\n",
       "      <th>Total Traffic Volume (MB)</th>\n",
       "      <th>coverage bin</th>\n",
       "      <th>pct</th>\n",
       "      <th>est_traff</th>\n",
       "    </tr>\n",
       "  </thead>\n",
       "  <tbody>\n",
       "    <tr>\n",
       "      <th>1082</th>\n",
       "      <td>13.727236</td>\n",
       "      <td>100.692030</td>\n",
       "      <td>-103.78</td>\n",
       "      <td>98.381</td>\n",
       "      <td>(-105, -95]</td>\n",
       "      <td>32.584213</td>\n",
       "      <td>685.797739</td>\n",
       "    </tr>\n",
       "    <tr>\n",
       "      <th>1663</th>\n",
       "      <td>13.730384</td>\n",
       "      <td>100.687983</td>\n",
       "      <td>-103.21</td>\n",
       "      <td>251.368</td>\n",
       "      <td>(-105, -95]</td>\n",
       "      <td>71.372107</td>\n",
       "      <td>2364.556110</td>\n",
       "    </tr>\n",
       "    <tr>\n",
       "      <th>1703</th>\n",
       "      <td>13.731283</td>\n",
       "      <td>100.688883</td>\n",
       "      <td>-103.18</td>\n",
       "      <td>385.314</td>\n",
       "      <td>(-105, -95]</td>\n",
       "      <td>84.300138</td>\n",
       "      <td>4071.378027</td>\n",
       "    </tr>\n",
       "    <tr>\n",
       "      <th>1803</th>\n",
       "      <td>13.727236</td>\n",
       "      <td>100.688433</td>\n",
       "      <td>-103.09</td>\n",
       "      <td>355.024</td>\n",
       "      <td>(-105, -95]</td>\n",
       "      <td>82.199729</td>\n",
       "      <td>3667.183875</td>\n",
       "    </tr>\n",
       "    <tr>\n",
       "      <th>1817</th>\n",
       "      <td>13.727236</td>\n",
       "      <td>100.687983</td>\n",
       "      <td>-103.08</td>\n",
       "      <td>305.190</td>\n",
       "      <td>(-105, -95]</td>\n",
       "      <td>77.874761</td>\n",
       "      <td>3023.736392</td>\n",
       "    </tr>\n",
       "  </tbody>\n",
       "</table>\n",
       "</div>"
      ],
      "text/plain": [
       "       Latitude   Longitude  RSRP(All MRs) (dBm)  Total Traffic Volume (MB)  \\\n",
       "1082  13.727236  100.692030              -103.78                     98.381   \n",
       "1663  13.730384  100.687983              -103.21                    251.368   \n",
       "1703  13.731283  100.688883              -103.18                    385.314   \n",
       "1803  13.727236  100.688433              -103.09                    355.024   \n",
       "1817  13.727236  100.687983              -103.08                    305.190   \n",
       "\n",
       "     coverage bin        pct    est_traff  \n",
       "1082  (-105, -95]  32.584213   685.797739  \n",
       "1663  (-105, -95]  71.372107  2364.556110  \n",
       "1703  (-105, -95]  84.300138  4071.378027  \n",
       "1803  (-105, -95]  82.199729  3667.183875  \n",
       "1817  (-105, -95]  77.874761  3023.736392  "
      ]
     },
     "execution_count": 73,
     "metadata": {},
     "output_type": "execute_result"
    }
   ],
   "source": [
    "df_before_filtered.head()"
   ]
  },
  {
   "cell_type": "code",
   "execution_count": 75,
   "metadata": {},
   "outputs": [
    {
     "ename": "ValueError",
     "evalue": "Unknown format code 'd' for object of type 'float'",
     "output_type": "error",
     "traceback": [
      "\u001b[0;31m---------------------------------------------------------------------------\u001b[0m",
      "\u001b[0;31mValueError\u001b[0m                                Traceback (most recent call last)",
      "\u001b[0;32m<ipython-input-75-1ad1a2709194>\u001b[0m in \u001b[0;36m<module>\u001b[0;34m\u001b[0m\n\u001b[1;32m      5\u001b[0m \u001b[0;31m# Now switch to a more OO interface to exercise more features.\u001b[0m\u001b[0;34m\u001b[0m\u001b[0;34m\u001b[0m\u001b[0;34m\u001b[0m\u001b[0m\n\u001b[1;32m      6\u001b[0m \u001b[0mfig\u001b[0m\u001b[0;34m,\u001b[0m \u001b[0maxs\u001b[0m \u001b[0;34m=\u001b[0m \u001b[0mplt\u001b[0m\u001b[0;34m.\u001b[0m\u001b[0msubplots\u001b[0m\u001b[0;34m(\u001b[0m\u001b[0mnrows\u001b[0m\u001b[0;34m=\u001b[0m\u001b[0;36m1\u001b[0m\u001b[0;34m,\u001b[0m \u001b[0mncols\u001b[0m\u001b[0;34m=\u001b[0m\u001b[0;36m2\u001b[0m\u001b[0;34m)\u001b[0m\u001b[0;34m\u001b[0m\u001b[0;34m\u001b[0m\u001b[0m\n\u001b[0;32m----> 7\u001b[0;31m \u001b[0msns\u001b[0m\u001b[0;34m.\u001b[0m\u001b[0mheatmap\u001b[0m\u001b[0;34m(\u001b[0m\u001b[0mcov_before\u001b[0m\u001b[0;34m,\u001b[0m \u001b[0mannot\u001b[0m\u001b[0;34m=\u001b[0m\u001b[0;32mTrue\u001b[0m\u001b[0;34m,\u001b[0m \u001b[0mfmt\u001b[0m\u001b[0;34m=\u001b[0m\u001b[0;34m\"d\"\u001b[0m\u001b[0;34m,\u001b[0m \u001b[0mlinewidths\u001b[0m\u001b[0;34m=\u001b[0m\u001b[0;36m.5\u001b[0m\u001b[0;34m,\u001b[0m \u001b[0max\u001b[0m\u001b[0;34m=\u001b[0m\u001b[0maxs\u001b[0m\u001b[0;34m[\u001b[0m\u001b[0;36m0\u001b[0m\u001b[0;34m]\u001b[0m\u001b[0;34m)\u001b[0m\u001b[0;34m\u001b[0m\u001b[0;34m\u001b[0m\u001b[0m\n\u001b[0m\u001b[1;32m      8\u001b[0m \u001b[0msns\u001b[0m\u001b[0;34m.\u001b[0m\u001b[0mheatmap\u001b[0m\u001b[0;34m(\u001b[0m\u001b[0mcov_after\u001b[0m\u001b[0;34m,\u001b[0m \u001b[0mannot\u001b[0m\u001b[0;34m=\u001b[0m\u001b[0;32mTrue\u001b[0m\u001b[0;34m,\u001b[0m \u001b[0mfmt\u001b[0m\u001b[0;34m=\u001b[0m\u001b[0;34m\"d\"\u001b[0m\u001b[0;34m,\u001b[0m \u001b[0mlinewidths\u001b[0m\u001b[0;34m=\u001b[0m\u001b[0;36m.5\u001b[0m\u001b[0;34m,\u001b[0m \u001b[0max\u001b[0m\u001b[0;34m=\u001b[0m\u001b[0maxs\u001b[0m\u001b[0;34m[\u001b[0m\u001b[0;36m1\u001b[0m\u001b[0;34m]\u001b[0m\u001b[0;34m)\u001b[0m\u001b[0;34m\u001b[0m\u001b[0;34m\u001b[0m\u001b[0m\n\u001b[1;32m      9\u001b[0m \u001b[0;34m\u001b[0m\u001b[0m\n",
      "\u001b[0;32m~/anaconda3/lib/python3.6/site-packages/seaborn/matrix.py\u001b[0m in \u001b[0;36mheatmap\u001b[0;34m(data, vmin, vmax, cmap, center, robust, annot, fmt, annot_kws, linewidths, linecolor, cbar, cbar_kws, cbar_ax, square, xticklabels, yticklabels, mask, ax, **kwargs)\u001b[0m\n\u001b[1;32m    526\u001b[0m     \u001b[0;32mif\u001b[0m \u001b[0msquare\u001b[0m\u001b[0;34m:\u001b[0m\u001b[0;34m\u001b[0m\u001b[0;34m\u001b[0m\u001b[0m\n\u001b[1;32m    527\u001b[0m         \u001b[0max\u001b[0m\u001b[0;34m.\u001b[0m\u001b[0mset_aspect\u001b[0m\u001b[0;34m(\u001b[0m\u001b[0;34m\"equal\"\u001b[0m\u001b[0;34m)\u001b[0m\u001b[0;34m\u001b[0m\u001b[0;34m\u001b[0m\u001b[0m\n\u001b[0;32m--> 528\u001b[0;31m     \u001b[0mplotter\u001b[0m\u001b[0;34m.\u001b[0m\u001b[0mplot\u001b[0m\u001b[0;34m(\u001b[0m\u001b[0max\u001b[0m\u001b[0;34m,\u001b[0m \u001b[0mcbar_ax\u001b[0m\u001b[0;34m,\u001b[0m \u001b[0mkwargs\u001b[0m\u001b[0;34m)\u001b[0m\u001b[0;34m\u001b[0m\u001b[0;34m\u001b[0m\u001b[0m\n\u001b[0m\u001b[1;32m    529\u001b[0m     \u001b[0;32mreturn\u001b[0m \u001b[0max\u001b[0m\u001b[0;34m\u001b[0m\u001b[0;34m\u001b[0m\u001b[0m\n\u001b[1;32m    530\u001b[0m \u001b[0;34m\u001b[0m\u001b[0m\n",
      "\u001b[0;32m~/anaconda3/lib/python3.6/site-packages/seaborn/matrix.py\u001b[0m in \u001b[0;36mplot\u001b[0;34m(self, ax, cax, kws)\u001b[0m\n\u001b[1;32m    327\u001b[0m         \u001b[0;31m# Annotate the cells with the formatted values\u001b[0m\u001b[0;34m\u001b[0m\u001b[0;34m\u001b[0m\u001b[0;34m\u001b[0m\u001b[0m\n\u001b[1;32m    328\u001b[0m         \u001b[0;32mif\u001b[0m \u001b[0mself\u001b[0m\u001b[0;34m.\u001b[0m\u001b[0mannot\u001b[0m\u001b[0;34m:\u001b[0m\u001b[0;34m\u001b[0m\u001b[0;34m\u001b[0m\u001b[0m\n\u001b[0;32m--> 329\u001b[0;31m             \u001b[0mself\u001b[0m\u001b[0;34m.\u001b[0m\u001b[0m_annotate_heatmap\u001b[0m\u001b[0;34m(\u001b[0m\u001b[0max\u001b[0m\u001b[0;34m,\u001b[0m \u001b[0mmesh\u001b[0m\u001b[0;34m)\u001b[0m\u001b[0;34m\u001b[0m\u001b[0;34m\u001b[0m\u001b[0m\n\u001b[0m\u001b[1;32m    330\u001b[0m \u001b[0;34m\u001b[0m\u001b[0m\n\u001b[1;32m    331\u001b[0m \u001b[0;34m\u001b[0m\u001b[0m\n",
      "\u001b[0;32m~/anaconda3/lib/python3.6/site-packages/seaborn/matrix.py\u001b[0m in \u001b[0;36m_annotate_heatmap\u001b[0;34m(self, ax, mesh)\u001b[0m\n\u001b[1;32m    241\u001b[0m                 \u001b[0mlum\u001b[0m \u001b[0;34m=\u001b[0m \u001b[0mrelative_luminance\u001b[0m\u001b[0;34m(\u001b[0m\u001b[0mcolor\u001b[0m\u001b[0;34m)\u001b[0m\u001b[0;34m\u001b[0m\u001b[0;34m\u001b[0m\u001b[0m\n\u001b[1;32m    242\u001b[0m                 \u001b[0mtext_color\u001b[0m \u001b[0;34m=\u001b[0m \u001b[0;34m\".15\"\u001b[0m \u001b[0;32mif\u001b[0m \u001b[0mlum\u001b[0m \u001b[0;34m>\u001b[0m \u001b[0;36m.408\u001b[0m \u001b[0;32melse\u001b[0m \u001b[0;34m\"w\"\u001b[0m\u001b[0;34m\u001b[0m\u001b[0;34m\u001b[0m\u001b[0m\n\u001b[0;32m--> 243\u001b[0;31m                 \u001b[0mannotation\u001b[0m \u001b[0;34m=\u001b[0m \u001b[0;34m(\u001b[0m\u001b[0;34m\"{:\"\u001b[0m \u001b[0;34m+\u001b[0m \u001b[0mself\u001b[0m\u001b[0;34m.\u001b[0m\u001b[0mfmt\u001b[0m \u001b[0;34m+\u001b[0m \u001b[0;34m\"}\"\u001b[0m\u001b[0;34m)\u001b[0m\u001b[0;34m.\u001b[0m\u001b[0mformat\u001b[0m\u001b[0;34m(\u001b[0m\u001b[0mval\u001b[0m\u001b[0;34m)\u001b[0m\u001b[0;34m\u001b[0m\u001b[0;34m\u001b[0m\u001b[0m\n\u001b[0m\u001b[1;32m    244\u001b[0m                 \u001b[0mtext_kwargs\u001b[0m \u001b[0;34m=\u001b[0m \u001b[0mdict\u001b[0m\u001b[0;34m(\u001b[0m\u001b[0mcolor\u001b[0m\u001b[0;34m=\u001b[0m\u001b[0mtext_color\u001b[0m\u001b[0;34m,\u001b[0m \u001b[0mha\u001b[0m\u001b[0;34m=\u001b[0m\u001b[0;34m\"center\"\u001b[0m\u001b[0;34m,\u001b[0m \u001b[0mva\u001b[0m\u001b[0;34m=\u001b[0m\u001b[0;34m\"center\"\u001b[0m\u001b[0;34m)\u001b[0m\u001b[0;34m\u001b[0m\u001b[0;34m\u001b[0m\u001b[0m\n\u001b[1;32m    245\u001b[0m                 \u001b[0mtext_kwargs\u001b[0m\u001b[0;34m.\u001b[0m\u001b[0mupdate\u001b[0m\u001b[0;34m(\u001b[0m\u001b[0mself\u001b[0m\u001b[0;34m.\u001b[0m\u001b[0mannot_kws\u001b[0m\u001b[0;34m)\u001b[0m\u001b[0;34m\u001b[0m\u001b[0;34m\u001b[0m\u001b[0m\n",
      "\u001b[0;31mValueError\u001b[0m: Unknown format code 'd' for object of type 'float'"
     ]
    },
    {
     "data": {
      "image/png": "[encoded data removed]",
      "text/plain": [
       "<Figure size 432x288 with 3 Axes>"
      ]
     },
     "metadata": {
      "needs_background": "light"
     },
     "output_type": "display_data"
    }
   ],
   "source": [
    "# compare coverage\n",
    "cov_before = pd.crosstab(df_before_filtered[\"Latitude\"],df_before_filtered[\"Longitude\"],df_before_filtered[\"RSRP(All MRs) (dBm)\"],aggfunc=sum)\n",
    "cov_after = pd.crosstab(df_after_filtered[\"Latitude\"],df_after_filtered[\"Longitude\"],df_after_filtered[\"RSRP(All MRs) (dBm)\"],aggfunc=sum)\n",
    "\n",
    "# Now switch to a more OO interface to exercise more features.\n",
    "fig, axs = plt.subplots(nrows=1, ncols=2)\n",
    "sns.heatmap(cov_before, linewidths=.5, ax=axs[0])\n",
    "sns.heatmap(cov_after, linewidths=.5, ax=axs[1])\n",
    "\n",
    "# compare traffic\n",
    "\n",
    "# compare percentile\n"
   ]
  },
  {
   "cell_type": "code",
   "execution_count": null,
   "metadata": {},
   "outputs": [],
   "source": []
  }
 ],
 "metadata": {
  "kernelspec": {
   "display_name": "Python 3",
   "language": "python",
   "name": "python3"
  },
  "language_info": {
   "codemirror_mode": {
    "name": "ipython",
    "version": 3
   },
   "file_extension": ".py",
   "mimetype": "text/x-python",
   "name": "python",
   "nbconvert_exporter": "python",
   "pygments_lexer": "ipython3",
   "version": "3.6.8"
  }
 },
 "nbformat": 4,
 "nbformat_minor": 2
}
