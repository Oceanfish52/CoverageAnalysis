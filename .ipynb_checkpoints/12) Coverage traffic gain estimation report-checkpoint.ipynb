{
 "cells": [
  {
   "cell_type": "markdown",
   "metadata": {},
   "source": [
    "<h2>Setup</h2>"
   ]
  },
  {
   "cell_type": "code",
   "execution_count": 1,
   "metadata": {},
   "outputs": [
    {
     "data": {
      "text/html": [
       "<style>.container { width:90% !important; }</style>"
      ],
      "text/plain": [
       "<IPython.core.display.HTML object>"
      ]
     },
     "metadata": {},
     "output_type": "display_data"
    }
   ],
   "source": [
    "import pandas as pd\n",
    "import numpy as np\n",
    "import matplotlib.pyplot as plt\n",
    "import seaborn as sns\n",
    "%matplotlib inline\n",
    "from IPython.core.display import display, HTML\n",
    "display(HTML(\"<style>.container { width:90% !important; }</style>\"))\n",
    "pd.options.display.max_columns = 999\n",
    "pd.options.display.max_rows = 100\n",
    "from scipy import stats"
   ]
  },
  {
   "cell_type": "code",
   "execution_count": 2,
   "metadata": {},
   "outputs": [],
   "source": [
    "dca = pd.read_csv('../src/dca_291118.csv')\n",
    "dla_1 = pd.read_csv('../src/LTE-FDD_traffic_Grid_2018113009523030927/LTE-FDD_traffic_Grid_2018113009523030927.csv')\n",
    "dla_2 = pd.read_csv('../src/LTE-FDD_traffic_Grid_2018113009523030927/LTE-FDD_traffic_Grid_2018113009523030927_1.csv')\n",
    "dla = pd.concat([dla_1,dla_2],axis=0)\n",
    "del dla_1,dla_2"
   ]
  },
  {
   "cell_type": "code",
   "execution_count": 3,
   "metadata": {},
   "outputs": [],
   "source": [
    "dca.set_index(['Latitude','Longitude'],inplace=True)\n",
    "dla.set_index(['Latitude','Longitude'],inplace=True)"
   ]
  },
  {
   "cell_type": "code",
   "execution_count": 4,
   "metadata": {},
   "outputs": [],
   "source": [
    "df = dca.join(dla,how='inner',lsuffix='_dca',rsuffix='_dla')"
   ]
  },
  {
   "cell_type": "code",
   "execution_count": 5,
   "metadata": {},
   "outputs": [],
   "source": [
    "del dca,dla"
   ]
  },
  {
   "cell_type": "code",
   "execution_count": 6,
   "metadata": {},
   "outputs": [],
   "source": [
    "bins = pd.IntervalIndex.from_tuples([(-135,-125),(-125,-115),(-115,-105),(-105,-95),(-95,-85),(-85,-75),(-75,-65),(-65,-55)])\n",
    "df['suppress traffic bin'] = pd.cut(df['RSRP(All MRs) (dBm)'],bins=bins,labels=['(-135,-125)','(-125,-115)','(-115,-105)','(-105,-95)','(-95,-85)','(-85,-75)','(-75,-65)','(-65,-55)'],include_lowest=True)"
   ]
  },
  {
   "cell_type": "code",
   "execution_count": 7,
   "metadata": {},
   "outputs": [],
   "source": [
    "df = df[['RSRP(All MRs) (dBm)','Total Traffic Volume (MB)','suppress traffic bin']]"
   ]
  },
  {
   "cell_type": "code",
   "execution_count": 14,
   "metadata": {},
   "outputs": [
    {
     "data": {
      "text/html": [
       "<div>\n",
       "<style scoped>\n",
       "    .dataframe tbody tr th:only-of-type {\n",
       "        vertical-align: middle;\n",
       "    }\n",
       "\n",
       "    .dataframe tbody tr th {\n",
       "        vertical-align: top;\n",
       "    }\n",
       "\n",
       "    .dataframe thead th {\n",
       "        text-align: right;\n",
       "    }\n",
       "</style>\n",
       "<table border=\"1\" class=\"dataframe\">\n",
       "  <thead>\n",
       "    <tr style=\"text-align: right;\">\n",
       "      <th></th>\n",
       "      <th>Latitude</th>\n",
       "      <th>Longitude</th>\n",
       "      <th>RSRP(All MRs) (dBm)</th>\n",
       "      <th>Total Traffic Volume (MB)</th>\n",
       "      <th>suppress traffic bin</th>\n",
       "    </tr>\n",
       "  </thead>\n",
       "  <tbody>\n",
       "    <tr>\n",
       "      <th>0</th>\n",
       "      <td>13.461036</td>\n",
       "      <td>100.858384</td>\n",
       "      <td>-103.0</td>\n",
       "      <td>0.040</td>\n",
       "      <td>(-105, -95]</td>\n",
       "    </tr>\n",
       "    <tr>\n",
       "      <th>1</th>\n",
       "      <td>13.461486</td>\n",
       "      <td>100.848189</td>\n",
       "      <td>-95.0</td>\n",
       "      <td>0.006</td>\n",
       "      <td>(-105, -95]</td>\n",
       "    </tr>\n",
       "    <tr>\n",
       "      <th>2</th>\n",
       "      <td>13.461486</td>\n",
       "      <td>100.851897</td>\n",
       "      <td>-104.0</td>\n",
       "      <td>0.000</td>\n",
       "      <td>(-105, -95]</td>\n",
       "    </tr>\n",
       "    <tr>\n",
       "      <th>3</th>\n",
       "      <td>13.461486</td>\n",
       "      <td>100.863018</td>\n",
       "      <td>-83.5</td>\n",
       "      <td>0.766</td>\n",
       "      <td>(-85, -75]</td>\n",
       "    </tr>\n",
       "    <tr>\n",
       "      <th>4</th>\n",
       "      <td>13.461935</td>\n",
       "      <td>100.864408</td>\n",
       "      <td>-94.0</td>\n",
       "      <td>0.000</td>\n",
       "      <td>(-95, -85]</td>\n",
       "    </tr>\n",
       "  </tbody>\n",
       "</table>\n",
       "</div>"
      ],
      "text/plain": [
       "    Latitude   Longitude  RSRP(All MRs) (dBm)  Total Traffic Volume (MB)  \\\n",
       "0  13.461036  100.858384               -103.0                      0.040   \n",
       "1  13.461486  100.848189                -95.0                      0.006   \n",
       "2  13.461486  100.851897               -104.0                      0.000   \n",
       "3  13.461486  100.863018                -83.5                      0.766   \n",
       "4  13.461935  100.864408                -94.0                      0.000   \n",
       "\n",
       "  suppress traffic bin  \n",
       "0          (-105, -95]  \n",
       "1          (-105, -95]  \n",
       "2          (-105, -95]  \n",
       "3           (-85, -75]  \n",
       "4           (-95, -85]  "
      ]
     },
     "execution_count": 14,
     "metadata": {},
     "output_type": "execute_result"
    }
   ],
   "source": [
    "df.reset_index(inplace=True)\n",
    "df.head()"
   ]
  },
  {
   "cell_type": "code",
   "execution_count": 15,
   "metadata": {},
   "outputs": [
    {
     "name": "stderr",
     "output_type": "stream",
     "text": [
      "/Users/witchapong/anaconda3/lib/python3.7/site-packages/ipykernel_launcher.py:11: SettingWithCopyWarning: \n",
      "A value is trying to be set on a copy of a slice from a DataFrame.\n",
      "Try using .loc[row_indexer,col_indexer] = value instead\n",
      "\n",
      "See the caveats in the documentation: http://pandas.pydata.org/pandas-docs/stable/indexing.html#indexing-view-versus-copy\n",
      "  # This is added back by InteractiveShellApp.init_path()\n",
      "/Users/witchapong/anaconda3/lib/python3.7/site-packages/ipykernel_launcher.py:12: SettingWithCopyWarning: \n",
      "A value is trying to be set on a copy of a slice from a DataFrame.\n",
      "Try using .loc[row_indexer,col_indexer] = value instead\n",
      "\n",
      "See the caveats in the documentation: http://pandas.pydata.org/pandas-docs/stable/indexing.html#indexing-view-versus-copy\n",
      "  if sys.path[0] == '':\n",
      "/Users/witchapong/anaconda3/lib/python3.7/site-packages/ipykernel_launcher.py:14: SettingWithCopyWarning: \n",
      "A value is trying to be set on a copy of a slice from a DataFrame.\n",
      "Try using .loc[row_indexer,col_indexer] = value instead\n",
      "\n",
      "See the caveats in the documentation: http://pandas.pydata.org/pandas-docs/stable/indexing.html#indexing-view-versus-copy\n",
      "  \n",
      "/Users/witchapong/anaconda3/lib/python3.7/site-packages/ipykernel_launcher.py:15: SettingWithCopyWarning: \n",
      "A value is trying to be set on a copy of a slice from a DataFrame.\n",
      "Try using .loc[row_indexer,col_indexer] = value instead\n",
      "\n",
      "See the caveats in the documentation: http://pandas.pydata.org/pandas-docs/stable/indexing.html#indexing-view-versus-copy\n",
      "  from ipykernel import kernelapp as app\n"
     ]
    }
   ],
   "source": [
    "traff_target = df[df['suppress traffic bin']==bins[5]]['Total Traffic Volume (MB)'].values\n",
    "\n",
    "df_est_all = pd.DataFrame(data=None,columns=df.columns.tolist()+['pct','est_traff'])\n",
    "for idx in range(8):\n",
    "    \n",
    "    sub_df = df[df['suppress traffic bin']==bins[idx]]\n",
    "    if idx<5:\n",
    "        traff = sub_df['Total Traffic Volume (MB)'].values\n",
    "        pct_t = stats.rankdata(traff, 'min')/len(traff)*100\n",
    "        est_traff = np.percentile(traff_target,pct_t)\n",
    "        sub_df['pct'] = pct_t\n",
    "        sub_df['est_traff'] = est_traff\n",
    "    else:\n",
    "        sub_df['pct'] = 999\n",
    "        sub_df['est_traff'] = sub_df['Total Traffic Volume (MB)']\n",
    "    \n",
    "    df_est_all = pd.concat([df_est_all,sub_df],axis=0)"
   ]
  },
  {
   "cell_type": "code",
   "execution_count": 17,
   "metadata": {},
   "outputs": [
    {
     "name": "stdout",
     "output_type": "stream",
     "text": [
      "(1907158, 5)\n",
      "(1907158, 7)\n"
     ]
    }
   ],
   "source": [
    "print(df.shape)\n",
    "print(df_est_all.shape)"
   ]
  },
  {
   "cell_type": "code",
   "execution_count": 18,
   "metadata": {},
   "outputs": [],
   "source": [
    "df_est_all['traffic_gain'] = df_est_all['est_traff'] - df_est_all['Total Traffic Volume (MB)']"
   ]
  },
  {
   "cell_type": "code",
   "execution_count": 19,
   "metadata": {},
   "outputs": [],
   "source": [
    "df_est_all.reset_index(drop=True,inplace=True)"
   ]
  },
  {
   "cell_type": "code",
   "execution_count": 20,
   "metadata": {
    "scrolled": true
   },
   "outputs": [
    {
     "data": {
      "text/html": [
       "<div>\n",
       "<style scoped>\n",
       "    .dataframe tbody tr th:only-of-type {\n",
       "        vertical-align: middle;\n",
       "    }\n",
       "\n",
       "    .dataframe tbody tr th {\n",
       "        vertical-align: top;\n",
       "    }\n",
       "\n",
       "    .dataframe thead th {\n",
       "        text-align: right;\n",
       "    }\n",
       "</style>\n",
       "<table border=\"1\" class=\"dataframe\">\n",
       "  <thead>\n",
       "    <tr style=\"text-align: right;\">\n",
       "      <th></th>\n",
       "      <th>Latitude</th>\n",
       "      <th>Longitude</th>\n",
       "      <th>RSRP(All MRs) (dBm)</th>\n",
       "      <th>Total Traffic Volume (MB)</th>\n",
       "      <th>suppress traffic bin</th>\n",
       "      <th>pct</th>\n",
       "      <th>est_traff</th>\n",
       "      <th>traffic_gain</th>\n",
       "    </tr>\n",
       "  </thead>\n",
       "  <tbody>\n",
       "    <tr>\n",
       "      <th>0</th>\n",
       "      <td>13.499707</td>\n",
       "      <td>100.716584</td>\n",
       "      <td>-128.26</td>\n",
       "      <td>0.258</td>\n",
       "      <td>(-135, -125]</td>\n",
       "      <td>89.655172</td>\n",
       "      <td>11924.334310</td>\n",
       "      <td>11924.076310</td>\n",
       "    </tr>\n",
       "    <tr>\n",
       "      <th>1</th>\n",
       "      <td>13.499707</td>\n",
       "      <td>100.717048</td>\n",
       "      <td>-130.00</td>\n",
       "      <td>0.000</td>\n",
       "      <td>(-135, -125]</td>\n",
       "      <td>3.448276</td>\n",
       "      <td>11.131828</td>\n",
       "      <td>11.131828</td>\n",
       "    </tr>\n",
       "    <tr>\n",
       "      <th>2</th>\n",
       "      <td>13.503754</td>\n",
       "      <td>100.891285</td>\n",
       "      <td>-127.00</td>\n",
       "      <td>0.003</td>\n",
       "      <td>(-135, -125]</td>\n",
       "      <td>65.517241</td>\n",
       "      <td>3353.028207</td>\n",
       "      <td>3353.025207</td>\n",
       "    </tr>\n",
       "    <tr>\n",
       "      <th>3</th>\n",
       "      <td>13.505103</td>\n",
       "      <td>100.457081</td>\n",
       "      <td>-130.00</td>\n",
       "      <td>0.000</td>\n",
       "      <td>(-135, -125]</td>\n",
       "      <td>3.448276</td>\n",
       "      <td>11.131828</td>\n",
       "      <td>11.131828</td>\n",
       "    </tr>\n",
       "    <tr>\n",
       "      <th>4</th>\n",
       "      <td>13.507351</td>\n",
       "      <td>100.458471</td>\n",
       "      <td>-129.00</td>\n",
       "      <td>0.001</td>\n",
       "      <td>(-135, -125]</td>\n",
       "      <td>48.275862</td>\n",
       "      <td>1720.531241</td>\n",
       "      <td>1720.530241</td>\n",
       "    </tr>\n",
       "  </tbody>\n",
       "</table>\n",
       "</div>"
      ],
      "text/plain": [
       "    Latitude   Longitude  RSRP(All MRs) (dBm)  Total Traffic Volume (MB)  \\\n",
       "0  13.499707  100.716584              -128.26                      0.258   \n",
       "1  13.499707  100.717048              -130.00                      0.000   \n",
       "2  13.503754  100.891285              -127.00                      0.003   \n",
       "3  13.505103  100.457081              -130.00                      0.000   \n",
       "4  13.507351  100.458471              -129.00                      0.001   \n",
       "\n",
       "  suppress traffic bin        pct     est_traff  traffic_gain  \n",
       "0         (-135, -125]  89.655172  11924.334310  11924.076310  \n",
       "1         (-135, -125]   3.448276     11.131828     11.131828  \n",
       "2         (-135, -125]  65.517241   3353.028207   3353.025207  \n",
       "3         (-135, -125]   3.448276     11.131828     11.131828  \n",
       "4         (-135, -125]  48.275862   1720.531241   1720.530241  "
      ]
     },
     "execution_count": 20,
     "metadata": {},
     "output_type": "execute_result"
    }
   ],
   "source": [
    "df_est_all.head()"
   ]
  },
  {
   "cell_type": "markdown",
   "metadata": {},
   "source": [
    "<h2>Visualization and proof of assumption</h2>"
   ]
  },
  {
   "cell_type": "code",
   "execution_count": 31,
   "metadata": {},
   "outputs": [
    {
     "data": {
      "text/html": [
       "<div>\n",
       "<style scoped>\n",
       "    .dataframe tbody tr th:only-of-type {\n",
       "        vertical-align: middle;\n",
       "    }\n",
       "\n",
       "    .dataframe tbody tr th {\n",
       "        vertical-align: top;\n",
       "    }\n",
       "\n",
       "    .dataframe thead th {\n",
       "        text-align: right;\n",
       "    }\n",
       "</style>\n",
       "<table border=\"1\" class=\"dataframe\">\n",
       "  <thead>\n",
       "    <tr style=\"text-align: right;\">\n",
       "      <th></th>\n",
       "      <th></th>\n",
       "      <th>RSRP(All MRs) (dBm)</th>\n",
       "      <th>Total Traffic Volume (MB)</th>\n",
       "      <th>suppress traffic bin</th>\n",
       "    </tr>\n",
       "    <tr>\n",
       "      <th>Latitude</th>\n",
       "      <th>Longitude</th>\n",
       "      <th></th>\n",
       "      <th></th>\n",
       "      <th></th>\n",
       "    </tr>\n",
       "  </thead>\n",
       "  <tbody>\n",
       "    <tr>\n",
       "      <th>13.461036</th>\n",
       "      <th>100.858384</th>\n",
       "      <td>-103.0</td>\n",
       "      <td>0.040</td>\n",
       "      <td>(-105, -95]</td>\n",
       "    </tr>\n",
       "    <tr>\n",
       "      <th rowspan=\"3\" valign=\"top\">13.461486</th>\n",
       "      <th>100.848189</th>\n",
       "      <td>-95.0</td>\n",
       "      <td>0.006</td>\n",
       "      <td>(-105, -95]</td>\n",
       "    </tr>\n",
       "    <tr>\n",
       "      <th>100.851897</th>\n",
       "      <td>-104.0</td>\n",
       "      <td>0.000</td>\n",
       "      <td>(-105, -95]</td>\n",
       "    </tr>\n",
       "    <tr>\n",
       "      <th>100.863018</th>\n",
       "      <td>-83.5</td>\n",
       "      <td>0.766</td>\n",
       "      <td>(-85, -75]</td>\n",
       "    </tr>\n",
       "    <tr>\n",
       "      <th>13.461935</th>\n",
       "      <th>100.864408</th>\n",
       "      <td>-94.0</td>\n",
       "      <td>0.000</td>\n",
       "      <td>(-95, -85]</td>\n",
       "    </tr>\n",
       "  </tbody>\n",
       "</table>\n",
       "</div>"
      ],
      "text/plain": [
       "                      RSRP(All MRs) (dBm)  Total Traffic Volume (MB)  \\\n",
       "Latitude  Longitude                                                    \n",
       "13.461036 100.858384               -103.0                      0.040   \n",
       "13.461486 100.848189                -95.0                      0.006   \n",
       "          100.851897               -104.0                      0.000   \n",
       "          100.863018                -83.5                      0.766   \n",
       "13.461935 100.864408                -94.0                      0.000   \n",
       "\n",
       "                     suppress traffic bin  \n",
       "Latitude  Longitude                        \n",
       "13.461036 100.858384          (-105, -95]  \n",
       "13.461486 100.848189          (-105, -95]  \n",
       "          100.851897          (-105, -95]  \n",
       "          100.863018           (-85, -75]  \n",
       "13.461935 100.864408           (-95, -85]  "
      ]
     },
     "execution_count": 31,
     "metadata": {},
     "output_type": "execute_result"
    }
   ],
   "source": [
    "df.head()"
   ]
  },
  {
   "cell_type": "code",
   "execution_count": 23,
   "metadata": {},
   "outputs": [
    {
     "data": {
      "image/png": "[encoded data removed]",
      "text/plain": [
       "<Figure size 432x288 with 1 Axes>"
      ]
     },
     "metadata": {
      "needs_background": "light"
     },
     "output_type": "display_data"
    }
   ],
   "source": [
    "# create the plot for traffic distribution per rsrp range\n",
    "import seaborn as sns\n",
    "sns.boxplot(x='suppress traffic bin',y='Total Traffic Volume (MB)',data=df)\n",
    "_=plt.ylim([0,4.5e4])"
   ]
  },
  {
   "cell_type": "code",
   "execution_count": 68,
   "metadata": {},
   "outputs": [
    {
     "data": {
      "text/plain": [
       "1907158"
      ]
     },
     "execution_count": 68,
     "metadata": {},
     "output_type": "execute_result"
    }
   ],
   "source": [
    "np.sum(~df['outlier'] | df['outlier'])"
   ]
  },
  {
   "cell_type": "code",
   "execution_count": 69,
   "metadata": {},
   "outputs": [],
   "source": [
    "def is_outlier(x):\n",
    "    q1 = np.percentile(x,25)\n",
    "    q3 = np.percentile(x,75)\n",
    "    iqr = q3-q1\n",
    "    min_val = q1-1.5*iqr\n",
    "    max_val = q3+1.5*iqr\n",
    "    return ((x<min_val) | (x>max_val))\n",
    "\n",
    "df[\"outlier\"] = df.groupby(\"suppress traffic bin\")[\"Total Traffic Volume (MB)\"].transform(is_outlier)"
   ]
  },
  {
   "cell_type": "code",
   "execution_count": 75,
   "metadata": {},
   "outputs": [
    {
     "name": "stdout",
     "output_type": "stream",
     "text": [
      "(1907158, 5)\n",
      "(1907158, 5)\n"
     ]
    }
   ],
   "source": [
    "print(df.shape)\n",
    "df_filtered = df[~df.outlier]\n",
    "print(df.shape)"
   ]
  },
  {
   "cell_type": "code",
   "execution_count": 76,
   "metadata": {},
   "outputs": [
    {
     "name": "stderr",
     "output_type": "stream",
     "text": [
      "/Users/witchapong/anaconda3/lib/python3.7/site-packages/ipykernel_launcher.py:1: SettingWithCopyWarning: \n",
      "A value is trying to be set on a copy of a slice from a DataFrame.\n",
      "Try using .loc[row_indexer,col_indexer] = value instead\n",
      "\n",
      "See the caveats in the documentation: http://pandas.pydata.org/pandas-docs/stable/indexing.html#indexing-view-versus-copy\n",
      "  \"\"\"Entry point for launching an IPython kernel.\n"
     ]
    }
   ],
   "source": [
    "df_filtered[\"norm_by_bin_traffic\"]=df_filtered.groupby(\"suppress traffic bin\")[\"Total Traffic Volume (MB)\"]\\\n",
    ".transform(lambda x:(x-np.min(x))/(np.max(x)-np.min(x))*100)"
   ]
  },
  {
   "cell_type": "code",
   "execution_count": 80,
   "metadata": {},
   "outputs": [
    {
     "data": {
      "image/png": "[encoded data removed]",
      "text/plain": [
       "<Figure size 432x288 with 1 Axes>"
      ]
     },
     "metadata": {
      "needs_background": "light"
     },
     "output_type": "display_data"
    }
   ],
   "source": [
    "sns.boxplot(x='suppress traffic bin',y='norm_by_bin_traffic',data=df_filtered)\n",
    "_=plt.xticks(rotation=45)"
   ]
  },
  {
   "cell_type": "code",
   "execution_count": 78,
   "metadata": {},
   "outputs": [
    {
     "name": "stderr",
     "output_type": "stream",
     "text": [
      "/Users/witchapong/anaconda3/lib/python3.7/site-packages/scipy/stats/stats.py:1713: FutureWarning: Using a non-tuple sequence for multidimensional indexing is deprecated; use `arr[tuple(seq)]` instead of `arr[seq]`. In the future this will be interpreted as an array index, `arr[np.array(seq)]`, which will result either in an error or a different result.\n",
      "  return np.add.reduce(sorted[indexer] * weights, axis=axis) / sumval\n"
     ]
    },
    {
     "data": {
      "text/plain": [
       "<matplotlib.axes._subplots.AxesSubplot at 0x1a2daf8940>"
      ]
     },
     "execution_count": 78,
     "metadata": {},
     "output_type": "execute_result"
    },
    {
     "data": {
      "image/png": "[encoded data removed]",
      "text/plain": [
       "<Figure size 432x288 with 1 Axes>"
      ]
     },
     "metadata": {
      "needs_background": "light"
     },
     "output_type": "display_data"
    }
   ],
   "source": [
    "sns.violinplot(x='suppress traffic bin',y='norm_by_bin_traffic',data=df_filtered)"
   ]
  },
  {
   "cell_type": "code",
   "execution_count": 44,
   "metadata": {},
   "outputs": [],
   "source": [
    "# create a normalized cdf of traffic for each RSRP range\n",
    "def ecdf(data):\n",
    "    \"\"\"Compute ECDF for a one-dimensional array of measurements.\"\"\"\n",
    "\n",
    "    # Number of data points: n\n",
    "    n = len(data)\n",
    "\n",
    "    # x-data for the ECDF: x\n",
    "    x = np.sort((data-np.min(data))/(np.max(data)-np.min(data))*100)\n",
    "\n",
    "    # y-data for the ECDF: y\n",
    "    y = np.arange(1, n+1) / n\n",
    "\n",
    "    return x, y"
   ]
  },
  {
   "cell_type": "code",
   "execution_count": 48,
   "metadata": {},
   "outputs": [
    {
     "data": {
      "image/png": "[encoded data removed]",
      "text/plain": [
       "<Figure size 432x288 with 1 Axes>"
      ]
     },
     "metadata": {
      "needs_background": "light"
     },
     "output_type": "display_data"
    }
   ],
   "source": [
    "for i in range(6):\n",
    "    \n",
    "    # Compute ECDF for versicolor data: x_vers, y_vers\n",
    "    x, y = ecdf(df[df['suppress traffic bin']==bins[i]]['Total Traffic Volume (MB)'].values)\n",
    "\n",
    "    # Generate plot\n",
    "    _ = plt.plot(x,y,marker='.',linestyle='none',label=bins[i])\n",
    "\n",
    "_ = plt.xlabel('Normalised traffic volume')\n",
    "_ = plt.ylabel('CDF of normalised traffic')\n",
    "_ = plt.legend()"
   ]
  },
  {
   "cell_type": "markdown",
   "metadata": {},
   "source": [
    "<h2>Map traffic estimation to PA areas</h2>"
   ]
  },
  {
   "cell_type": "code",
   "execution_count": 11,
   "metadata": {},
   "outputs": [],
   "source": [
    "import fiona\n",
    "from shapely.geometry import Point\n",
    "from shapely.geometry.polygon import Polygon\n",
    "pa = fiona.open(\"../files/shape files/RNC_PA_region.shp\")\n",
    "\n",
    "pa_poly = [Polygon(item['geometry']['coordinates'][0]) for item in pa]"
   ]
  },
  {
   "cell_type": "code",
   "execution_count": 12,
   "metadata": {},
   "outputs": [
    {
     "name": "stderr",
     "output_type": "stream",
     "text": [
      " 22%|██▏       | 406476/1832611 [14:52<53:41, 442.66it/s]  "
     ]
    },
    {
     "ename": "KeyboardInterrupt",
     "evalue": "",
     "output_type": "error",
     "traceback": [
      "\u001b[0;31m---------------------------------------------------------------------------\u001b[0m",
      "\u001b[0;31mKeyboardInterrupt\u001b[0m                         Traceback (most recent call last)",
      "\u001b[0;32m<ipython-input-12-db60071f2760>\u001b[0m in \u001b[0;36m<module>\u001b[0;34m()\u001b[0m\n\u001b[1;32m      8\u001b[0m             \u001b[0;32mreturn\u001b[0m \u001b[0mi\u001b[0m\u001b[0;34m\u001b[0m\u001b[0m\n\u001b[1;32m      9\u001b[0m \u001b[0;34m\u001b[0m\u001b[0m\n\u001b[0;32m---> 10\u001b[0;31m \u001b[0mdf_low_all\u001b[0m\u001b[0;34m[\u001b[0m\u001b[0;34m'pa_id'\u001b[0m\u001b[0;34m]\u001b[0m \u001b[0;34m=\u001b[0m \u001b[0mdf_low_all\u001b[0m\u001b[0;34m.\u001b[0m\u001b[0mprogress_apply\u001b[0m\u001b[0;34m(\u001b[0m\u001b[0mmap_coor2cid\u001b[0m\u001b[0;34m,\u001b[0m\u001b[0maxis\u001b[0m\u001b[0;34m=\u001b[0m\u001b[0;36m1\u001b[0m\u001b[0;34m)\u001b[0m\u001b[0;34m\u001b[0m\u001b[0m\n\u001b[0m",
      "\u001b[0;32m~/anaconda3/lib/python3.7/site-packages/tqdm/_tqdm.py\u001b[0m in \u001b[0;36minner\u001b[0;34m(df, func, *args, **kwargs)\u001b[0m\n\u001b[1;32m    616\u001b[0m                 \u001b[0;31m# Apply the provided function (in **kwargs)\u001b[0m\u001b[0;34m\u001b[0m\u001b[0;34m\u001b[0m\u001b[0m\n\u001b[1;32m    617\u001b[0m                 \u001b[0;31m# on the df using our wrapper (which provides bar updating)\u001b[0m\u001b[0;34m\u001b[0m\u001b[0;34m\u001b[0m\u001b[0m\n\u001b[0;32m--> 618\u001b[0;31m                 \u001b[0mresult\u001b[0m \u001b[0;34m=\u001b[0m \u001b[0mgetattr\u001b[0m\u001b[0;34m(\u001b[0m\u001b[0mdf\u001b[0m\u001b[0;34m,\u001b[0m \u001b[0mdf_function\u001b[0m\u001b[0;34m)\u001b[0m\u001b[0;34m(\u001b[0m\u001b[0mwrapper\u001b[0m\u001b[0;34m,\u001b[0m \u001b[0;34m**\u001b[0m\u001b[0mkwargs\u001b[0m\u001b[0;34m)\u001b[0m\u001b[0;34m\u001b[0m\u001b[0m\n\u001b[0m\u001b[1;32m    619\u001b[0m \u001b[0;34m\u001b[0m\u001b[0m\n\u001b[1;32m    620\u001b[0m                 \u001b[0;31m# Close bar and return pandas calculation result\u001b[0m\u001b[0;34m\u001b[0m\u001b[0;34m\u001b[0m\u001b[0m\n",
      "\u001b[0;32m~/anaconda3/lib/python3.7/site-packages/pandas/core/frame.py\u001b[0m in \u001b[0;36mapply\u001b[0;34m(self, func, axis, broadcast, raw, reduce, result_type, args, **kwds)\u001b[0m\n\u001b[1;32m   6012\u001b[0m                          \u001b[0margs\u001b[0m\u001b[0;34m=\u001b[0m\u001b[0margs\u001b[0m\u001b[0;34m,\u001b[0m\u001b[0;34m\u001b[0m\u001b[0m\n\u001b[1;32m   6013\u001b[0m                          kwds=kwds)\n\u001b[0;32m-> 6014\u001b[0;31m         \u001b[0;32mreturn\u001b[0m \u001b[0mop\u001b[0m\u001b[0;34m.\u001b[0m\u001b[0mget_result\u001b[0m\u001b[0;34m(\u001b[0m\u001b[0;34m)\u001b[0m\u001b[0;34m\u001b[0m\u001b[0m\n\u001b[0m\u001b[1;32m   6015\u001b[0m \u001b[0;34m\u001b[0m\u001b[0m\n\u001b[1;32m   6016\u001b[0m     \u001b[0;32mdef\u001b[0m \u001b[0mapplymap\u001b[0m\u001b[0;34m(\u001b[0m\u001b[0mself\u001b[0m\u001b[0;34m,\u001b[0m \u001b[0mfunc\u001b[0m\u001b[0;34m)\u001b[0m\u001b[0;34m:\u001b[0m\u001b[0;34m\u001b[0m\u001b[0m\n",
      "\u001b[0;32m~/anaconda3/lib/python3.7/site-packages/pandas/core/apply.py\u001b[0m in \u001b[0;36mget_result\u001b[0;34m(self)\u001b[0m\n\u001b[1;32m    140\u001b[0m             \u001b[0;32mreturn\u001b[0m \u001b[0mself\u001b[0m\u001b[0;34m.\u001b[0m\u001b[0mapply_raw\u001b[0m\u001b[0;34m(\u001b[0m\u001b[0;34m)\u001b[0m\u001b[0;34m\u001b[0m\u001b[0m\n\u001b[1;32m    141\u001b[0m \u001b[0;34m\u001b[0m\u001b[0m\n\u001b[0;32m--> 142\u001b[0;31m         \u001b[0;32mreturn\u001b[0m \u001b[0mself\u001b[0m\u001b[0;34m.\u001b[0m\u001b[0mapply_standard\u001b[0m\u001b[0;34m(\u001b[0m\u001b[0;34m)\u001b[0m\u001b[0;34m\u001b[0m\u001b[0m\n\u001b[0m\u001b[1;32m    143\u001b[0m \u001b[0;34m\u001b[0m\u001b[0m\n\u001b[1;32m    144\u001b[0m     \u001b[0;32mdef\u001b[0m \u001b[0mapply_empty_result\u001b[0m\u001b[0;34m(\u001b[0m\u001b[0mself\u001b[0m\u001b[0;34m)\u001b[0m\u001b[0;34m:\u001b[0m\u001b[0;34m\u001b[0m\u001b[0m\n",
      "\u001b[0;32m~/anaconda3/lib/python3.7/site-packages/pandas/core/apply.py\u001b[0m in \u001b[0;36mapply_standard\u001b[0;34m(self)\u001b[0m\n\u001b[1;32m    246\u001b[0m \u001b[0;34m\u001b[0m\u001b[0m\n\u001b[1;32m    247\u001b[0m         \u001b[0;31m# compute the result using the series generator\u001b[0m\u001b[0;34m\u001b[0m\u001b[0;34m\u001b[0m\u001b[0m\n\u001b[0;32m--> 248\u001b[0;31m         \u001b[0mself\u001b[0m\u001b[0;34m.\u001b[0m\u001b[0mapply_series_generator\u001b[0m\u001b[0;34m(\u001b[0m\u001b[0;34m)\u001b[0m\u001b[0;34m\u001b[0m\u001b[0m\n\u001b[0m\u001b[1;32m    249\u001b[0m \u001b[0;34m\u001b[0m\u001b[0m\n\u001b[1;32m    250\u001b[0m         \u001b[0;31m# wrap results\u001b[0m\u001b[0;34m\u001b[0m\u001b[0;34m\u001b[0m\u001b[0m\n",
      "\u001b[0;32m~/anaconda3/lib/python3.7/site-packages/pandas/core/apply.py\u001b[0m in \u001b[0;36mapply_series_generator\u001b[0;34m(self)\u001b[0m\n\u001b[1;32m    275\u001b[0m             \u001b[0;32mtry\u001b[0m\u001b[0;34m:\u001b[0m\u001b[0;34m\u001b[0m\u001b[0m\n\u001b[1;32m    276\u001b[0m                 \u001b[0;32mfor\u001b[0m \u001b[0mi\u001b[0m\u001b[0;34m,\u001b[0m \u001b[0mv\u001b[0m \u001b[0;32min\u001b[0m \u001b[0menumerate\u001b[0m\u001b[0;34m(\u001b[0m\u001b[0mseries_gen\u001b[0m\u001b[0;34m)\u001b[0m\u001b[0;34m:\u001b[0m\u001b[0;34m\u001b[0m\u001b[0m\n\u001b[0;32m--> 277\u001b[0;31m                     \u001b[0mresults\u001b[0m\u001b[0;34m[\u001b[0m\u001b[0mi\u001b[0m\u001b[0;34m]\u001b[0m \u001b[0;34m=\u001b[0m \u001b[0mself\u001b[0m\u001b[0;34m.\u001b[0m\u001b[0mf\u001b[0m\u001b[0;34m(\u001b[0m\u001b[0mv\u001b[0m\u001b[0;34m)\u001b[0m\u001b[0;34m\u001b[0m\u001b[0m\n\u001b[0m\u001b[1;32m    278\u001b[0m                     \u001b[0mkeys\u001b[0m\u001b[0;34m.\u001b[0m\u001b[0mappend\u001b[0m\u001b[0;34m(\u001b[0m\u001b[0mv\u001b[0m\u001b[0;34m.\u001b[0m\u001b[0mname\u001b[0m\u001b[0;34m)\u001b[0m\u001b[0;34m\u001b[0m\u001b[0m\n\u001b[1;32m    279\u001b[0m             \u001b[0;32mexcept\u001b[0m \u001b[0mException\u001b[0m \u001b[0;32mas\u001b[0m \u001b[0me\u001b[0m\u001b[0;34m:\u001b[0m\u001b[0;34m\u001b[0m\u001b[0m\n",
      "\u001b[0;32m~/anaconda3/lib/python3.7/site-packages/tqdm/_tqdm.py\u001b[0m in \u001b[0;36mwrapper\u001b[0;34m(*args, **kwargs)\u001b[0m\n\u001b[1;32m    612\u001b[0m                     \u001b[0;31m# take a fast or slow code path; so stop when t.total==t.n\u001b[0m\u001b[0;34m\u001b[0m\u001b[0;34m\u001b[0m\u001b[0m\n\u001b[1;32m    613\u001b[0m                     \u001b[0mt\u001b[0m\u001b[0;34m.\u001b[0m\u001b[0mupdate\u001b[0m\u001b[0;34m(\u001b[0m\u001b[0mn\u001b[0m\u001b[0;34m=\u001b[0m\u001b[0;36m1\u001b[0m \u001b[0;32mif\u001b[0m \u001b[0;32mnot\u001b[0m \u001b[0mt\u001b[0m\u001b[0;34m.\u001b[0m\u001b[0mtotal\u001b[0m \u001b[0;32mor\u001b[0m \u001b[0mt\u001b[0m\u001b[0;34m.\u001b[0m\u001b[0mn\u001b[0m \u001b[0;34m<\u001b[0m \u001b[0mt\u001b[0m\u001b[0;34m.\u001b[0m\u001b[0mtotal\u001b[0m \u001b[0;32melse\u001b[0m \u001b[0;36m0\u001b[0m\u001b[0;34m)\u001b[0m\u001b[0;34m\u001b[0m\u001b[0m\n\u001b[0;32m--> 614\u001b[0;31m                     \u001b[0;32mreturn\u001b[0m \u001b[0mfunc\u001b[0m\u001b[0;34m(\u001b[0m\u001b[0;34m*\u001b[0m\u001b[0margs\u001b[0m\u001b[0;34m,\u001b[0m \u001b[0;34m**\u001b[0m\u001b[0mkwargs\u001b[0m\u001b[0;34m)\u001b[0m\u001b[0;34m\u001b[0m\u001b[0m\n\u001b[0m\u001b[1;32m    615\u001b[0m \u001b[0;34m\u001b[0m\u001b[0m\n\u001b[1;32m    616\u001b[0m                 \u001b[0;31m# Apply the provided function (in **kwargs)\u001b[0m\u001b[0;34m\u001b[0m\u001b[0;34m\u001b[0m\u001b[0m\n",
      "\u001b[0;32m<ipython-input-12-db60071f2760>\u001b[0m in \u001b[0;36mmap_coor2cid\u001b[0;34m(x)\u001b[0m\n\u001b[1;32m      5\u001b[0m     \u001b[0mpoint\u001b[0m \u001b[0;34m=\u001b[0m \u001b[0mPoint\u001b[0m\u001b[0;34m(\u001b[0m\u001b[0mx\u001b[0m\u001b[0;34m[\u001b[0m\u001b[0;34m'Longitude'\u001b[0m\u001b[0;34m]\u001b[0m\u001b[0;34m,\u001b[0m\u001b[0mx\u001b[0m\u001b[0;34m[\u001b[0m\u001b[0;34m'Latitude'\u001b[0m\u001b[0;34m]\u001b[0m\u001b[0;34m)\u001b[0m\u001b[0;34m\u001b[0m\u001b[0m\n\u001b[1;32m      6\u001b[0m     \u001b[0;32mfor\u001b[0m \u001b[0mi\u001b[0m\u001b[0;34m,\u001b[0m\u001b[0mpa\u001b[0m \u001b[0;32min\u001b[0m \u001b[0menumerate\u001b[0m\u001b[0;34m(\u001b[0m\u001b[0mpa_poly\u001b[0m\u001b[0;34m)\u001b[0m\u001b[0;34m:\u001b[0m\u001b[0;34m\u001b[0m\u001b[0m\n\u001b[0;32m----> 7\u001b[0;31m         \u001b[0;32mif\u001b[0m \u001b[0mpa\u001b[0m\u001b[0;34m.\u001b[0m\u001b[0mcontains\u001b[0m\u001b[0;34m(\u001b[0m\u001b[0mpoint\u001b[0m\u001b[0;34m)\u001b[0m\u001b[0;34m:\u001b[0m\u001b[0;34m\u001b[0m\u001b[0m\n\u001b[0m\u001b[1;32m      8\u001b[0m             \u001b[0;32mreturn\u001b[0m \u001b[0mi\u001b[0m\u001b[0;34m\u001b[0m\u001b[0m\n\u001b[1;32m      9\u001b[0m \u001b[0;34m\u001b[0m\u001b[0m\n",
      "\u001b[0;32m~/anaconda3/lib/python3.7/site-packages/shapely/geometry/base.py\u001b[0m in \u001b[0;36mcontains\u001b[0;34m(self, other)\u001b[0m\n\u001b[1;32m    689\u001b[0m     \u001b[0;32mdef\u001b[0m \u001b[0mcontains\u001b[0m\u001b[0;34m(\u001b[0m\u001b[0mself\u001b[0m\u001b[0;34m,\u001b[0m \u001b[0mother\u001b[0m\u001b[0;34m)\u001b[0m\u001b[0;34m:\u001b[0m\u001b[0;34m\u001b[0m\u001b[0m\n\u001b[1;32m    690\u001b[0m         \u001b[0;34m\"\"\"Returns True if the geometry contains the other, else False\"\"\"\u001b[0m\u001b[0;34m\u001b[0m\u001b[0m\n\u001b[0;32m--> 691\u001b[0;31m         \u001b[0;32mreturn\u001b[0m \u001b[0mbool\u001b[0m\u001b[0;34m(\u001b[0m\u001b[0mself\u001b[0m\u001b[0;34m.\u001b[0m\u001b[0mimpl\u001b[0m\u001b[0;34m[\u001b[0m\u001b[0;34m'contains'\u001b[0m\u001b[0;34m]\u001b[0m\u001b[0;34m(\u001b[0m\u001b[0mself\u001b[0m\u001b[0;34m,\u001b[0m \u001b[0mother\u001b[0m\u001b[0;34m)\u001b[0m\u001b[0;34m)\u001b[0m\u001b[0;34m\u001b[0m\u001b[0m\n\u001b[0m\u001b[1;32m    692\u001b[0m \u001b[0;34m\u001b[0m\u001b[0m\n\u001b[1;32m    693\u001b[0m     \u001b[0;32mdef\u001b[0m \u001b[0mcrosses\u001b[0m\u001b[0;34m(\u001b[0m\u001b[0mself\u001b[0m\u001b[0;34m,\u001b[0m \u001b[0mother\u001b[0m\u001b[0;34m)\u001b[0m\u001b[0;34m:\u001b[0m\u001b[0;34m\u001b[0m\u001b[0m\n",
      "\u001b[0;32m~/anaconda3/lib/python3.7/site-packages/shapely/predicates.py\u001b[0m in \u001b[0;36m__call__\u001b[0;34m(self, this, other, *args)\u001b[0m\n\u001b[1;32m     10\u001b[0m \u001b[0;34m\u001b[0m\u001b[0m\n\u001b[1;32m     11\u001b[0m     \u001b[0;32mdef\u001b[0m \u001b[0m__call__\u001b[0m\u001b[0;34m(\u001b[0m\u001b[0mself\u001b[0m\u001b[0;34m,\u001b[0m \u001b[0mthis\u001b[0m\u001b[0;34m,\u001b[0m \u001b[0mother\u001b[0m\u001b[0;34m,\u001b[0m \u001b[0;34m*\u001b[0m\u001b[0margs\u001b[0m\u001b[0;34m)\u001b[0m\u001b[0;34m:\u001b[0m\u001b[0;34m\u001b[0m\u001b[0m\n\u001b[0;32m---> 12\u001b[0;31m         \u001b[0mself\u001b[0m\u001b[0;34m.\u001b[0m\u001b[0m_validate\u001b[0m\u001b[0;34m(\u001b[0m\u001b[0mthis\u001b[0m\u001b[0;34m)\u001b[0m\u001b[0;34m\u001b[0m\u001b[0m\n\u001b[0m\u001b[1;32m     13\u001b[0m         \u001b[0mself\u001b[0m\u001b[0;34m.\u001b[0m\u001b[0m_validate\u001b[0m\u001b[0;34m(\u001b[0m\u001b[0mother\u001b[0m\u001b[0;34m,\u001b[0m \u001b[0mstop_prepared\u001b[0m\u001b[0;34m=\u001b[0m\u001b[0;32mTrue\u001b[0m\u001b[0;34m)\u001b[0m\u001b[0;34m\u001b[0m\u001b[0m\n\u001b[1;32m     14\u001b[0m         \u001b[0;32mtry\u001b[0m\u001b[0;34m:\u001b[0m\u001b[0;34m\u001b[0m\u001b[0m\n",
      "\u001b[0;32m~/anaconda3/lib/python3.7/site-packages/shapely/topology.py\u001b[0m in \u001b[0;36m_validate\u001b[0;34m(self, ob, stop_prepared)\u001b[0m\n\u001b[1;32m     14\u001b[0m \u001b[0;32mclass\u001b[0m \u001b[0mValidating\u001b[0m\u001b[0;34m(\u001b[0m\u001b[0mobject\u001b[0m\u001b[0;34m)\u001b[0m\u001b[0;34m:\u001b[0m\u001b[0;34m\u001b[0m\u001b[0m\n\u001b[1;32m     15\u001b[0m \u001b[0;34m\u001b[0m\u001b[0m\n\u001b[0;32m---> 16\u001b[0;31m     \u001b[0;32mdef\u001b[0m \u001b[0m_validate\u001b[0m\u001b[0;34m(\u001b[0m\u001b[0mself\u001b[0m\u001b[0;34m,\u001b[0m \u001b[0mob\u001b[0m\u001b[0;34m,\u001b[0m \u001b[0mstop_prepared\u001b[0m\u001b[0;34m=\u001b[0m\u001b[0;32mFalse\u001b[0m\u001b[0;34m)\u001b[0m\u001b[0;34m:\u001b[0m\u001b[0;34m\u001b[0m\u001b[0m\n\u001b[0m\u001b[1;32m     17\u001b[0m         \u001b[0;32mif\u001b[0m \u001b[0mob\u001b[0m \u001b[0;32mis\u001b[0m \u001b[0;32mNone\u001b[0m \u001b[0;32mor\u001b[0m \u001b[0mob\u001b[0m\u001b[0;34m.\u001b[0m\u001b[0m_geom\u001b[0m \u001b[0;32mis\u001b[0m \u001b[0;32mNone\u001b[0m\u001b[0;34m:\u001b[0m\u001b[0;34m\u001b[0m\u001b[0m\n\u001b[1;32m     18\u001b[0m             \u001b[0;32mraise\u001b[0m \u001b[0mValueError\u001b[0m\u001b[0;34m(\u001b[0m\u001b[0;34m\"Null geometry supports no operations\"\u001b[0m\u001b[0;34m)\u001b[0m\u001b[0;34m\u001b[0m\u001b[0m\n",
      "\u001b[0;31mKeyboardInterrupt\u001b[0m: "
     ]
    },
    {
     "name": "stderr",
     "output_type": "stream",
     "text": [
      "\r",
      " 22%|██▏       | 406513/1832611 [15:10<53:41, 442.66it/s]"
     ]
    }
   ],
   "source": [
    "from tqdm import tqdm\n",
    "tqdm.pandas()\n",
    "\n",
    "def map_coor2cid(x):\n",
    "    point = Point(x['Longitude'],x['Latitude'])\n",
    "    for i,pa in enumerate(pa_poly):\n",
    "        if pa.contains(point):\n",
    "            return i\n",
    "        \n",
    "df_low_all['pa_id'] = df_low_all.progress_apply(map_coor2cid,axis=1)"
   ]
  },
  {
   "cell_type": "code",
   "execution_count": null,
   "metadata": {},
   "outputs": [],
   "source": [
    "# calculate pa area\n",
    "import pyproj\n",
    "from functools import partial\n",
    "from shapely.ops import transform\n",
    "from shapely.geometry import shape\n",
    "\n",
    "def cal_pa_area(x):\n",
    "    geom = Polygon(pa_poly[x])\n",
    "    s = shape(geom)\n",
    "    proj = partial(pyproj.transform, pyproj.Proj(init='epsg:4326'),\n",
    "                   pyproj.Proj(init='epsg:3857'))\n",
    "\n",
    "    s_new = transform(proj, s)\n",
    "\n",
    "    return transform(proj, s).area"
   ]
  },
  {
   "cell_type": "code",
   "execution_count": null,
   "metadata": {},
   "outputs": [],
   "source": [
    "df_low_all['traffic_gain'] = df_low_all['est_traff'] - df_low_all['Total Traffic Volume (MB)']\n",
    "\n",
    "pa_sum_df = pd.DataFrame(df_low_all.groupby('pa_id')['traffic_gain'].sum()).reset_index()\n",
    "pa_sum_df['pa_id'] = pa_sum_df['pa_id'].astype(int)\n",
    "pa_sum_df['pa_area'] = pa_sum_df['pa_id'].apply(cal_pa_area)\n",
    "\n",
    "pa_sum_df['traffic gain/area (MB/m^2)'] = pa_sum_df['traffic_gain']/pa_sum_df['pa_area']"
   ]
  },
  {
   "cell_type": "code",
   "execution_count": null,
   "metadata": {},
   "outputs": [],
   "source": [
    "pred_traff = pa_sum_df['traffic_gain'].values\n",
    "\n",
    "import numpy as np\n",
    "norm_pred_traff = (pred_traff - np.min(pred_traff))/(np.max(pred_traff)-np.min(pred_traff))\n",
    "\n",
    "lng_list = []\n",
    "lat_list = []\n",
    "alpha_list = []\n",
    "for i,pa_id in enumerate(pa_sum_df['pa_id']):\n",
    "    lng=[]\n",
    "    lat=[]\n",
    "    for coor in pa[pa_id]['geometry']['coordinates'][0]:\n",
    "        lng.append(coor[0])\n",
    "        lat.append(coor[1])\n",
    "    lng_list.append(lng)\n",
    "    lat_list.append(lat)\n",
    "    alpha_list.append(norm_pred_traff[i])\n",
    "\n",
    "from bokeh.io import output_file,show\n",
    "from bokeh.plotting import figure\n",
    "from bokeh.models import ColumnDataSource\n",
    "from bokeh.models import HoverTool\n",
    "\n",
    "source = ColumnDataSource(data = dict(\n",
    "    pa_id = pa_sum_df['pa_id'].values,\n",
    "    lng = lng_list,\n",
    "    lat = lat_list,\n",
    "    al = alpha_list,\n",
    "    traff = pred_traff\n",
    "))\n",
    "plot = figure(plot_width=1000,title='predicted traffic gain(MB) from coverage improvement of each PA(Problem Area)')\n",
    "plot.patches('lng','lat',alpha='al',source=source)\n",
    "\n",
    "hover = HoverTool(tooltips=[('pa id', '@pa_id'),('predicted traffic gain (MB)', '@traff')])\n",
    "plot.add_tools(hover)\n",
    "\n",
    "output_file('../out/pa.html')\n",
    "show(plot)"
   ]
  },
  {
   "cell_type": "code",
   "execution_count": null,
   "metadata": {},
   "outputs": [],
   "source": [
    "import plotly.plotly as py\n",
    "import plotly.graph_objs as go\n",
    "\n",
    "# Create traces\n",
    "trace0 = go.Scatter(\n",
    "    x = pa_sum_df['traffic_gain'].values,\n",
    "    y = pa_sum_df['traffic gain/area (MB/m^2)'].values,\n",
    "    mode = 'markers',\n",
    "    name = 'PA ID',\n",
    "    text = pa_sum_df['pa_id']\n",
    ")\n",
    "trace1 = go.Scatter(\n",
    "    x = [np.min(pa_sum_df['traffic_gain'].values),np.max(pa_sum_df['traffic_gain'].values)],\n",
    "    y = [np.median(pa_sum_df['traffic gain/area (MB/m^2)'].values),np.median(pa_sum_df['traffic gain/area (MB/m^2)'].values)],\n",
    "    mode = 'lines',\n",
    "    line = dict(color = 'red')\n",
    ")\n",
    "trace2 = go.Scatter(\n",
    "    x = [np.median(pa_sum_df['traffic_gain'].values),np.median(pa_sum_df['traffic_gain'].values)],\n",
    "    y = [np.min(pa_sum_df['traffic gain/area (MB/m^2)'].values),np.max(pa_sum_df['traffic gain/area (MB/m^2)'].values)],\n",
    "    mode = 'lines',\n",
    "    line = dict(color = 'red')\n",
    ")\n",
    "\n",
    "data = [trace0, trace1, trace2]\n",
    "\n",
    "layout= go.Layout(\n",
    "    title= 'PA total traffic gain and traffic gain per area estimation',\n",
    "    hovermode= 'closest',\n",
    "    xaxis= dict(\n",
    "        title= 'Total traffic gain (MB)',\n",
    "        ticklen= 5,\n",
    "        zeroline= False,\n",
    "        gridwidth= 2,\n",
    "    ),\n",
    "    yaxis=dict(\n",
    "        title= 'Traffic gain per area (MB/m^2)',\n",
    "        ticklen= 5,\n",
    "        gridwidth= 2,\n",
    "    ),\n",
    "    showlegend= False\n",
    ")\n",
    "\n",
    "fig= go.Figure(data=data, layout=layout)\n",
    "py.iplot(fig)"
   ]
  },
  {
   "cell_type": "markdown",
   "metadata": {},
   "source": [
    "<h2>Potential area searching using 2D convolutional filter</h2>"
   ]
  },
  {
   "cell_type": "code",
   "execution_count": 29,
   "metadata": {},
   "outputs": [],
   "source": [
    "est_traff_mat=pd.crosstab(df_est_all.Latitude,df_est_all.Longitude,values=df_est_all.traffic_gain,aggfunc=sum).fillna(0)"
   ]
  },
  {
   "cell_type": "code",
   "execution_count": 32,
   "metadata": {},
   "outputs": [
    {
     "name": "stdout",
     "output_type": "stream",
     "text": [
      "matrix sum: 9511574905.797796\n",
      "table sum: 9511574905.797798\n"
     ]
    }
   ],
   "source": [
    "print('matrix sum:',est_traff_mat.sum().sum())\n",
    "print('table sum:',df_est_all.traffic_gain.sum())"
   ]
  },
  {
   "cell_type": "code",
   "execution_count": 33,
   "metadata": {},
   "outputs": [],
   "source": [
    "# define example filter of size 8x8\n",
    "cov_filter = np.empty((8,8),dtype=float)\n",
    "cov_filter.fill(0.5)\n",
    "\n",
    "cov_filter[1:-1,1:-1] = 0.7\n",
    "\n",
    "cov_filter[2:-2,2:-2] = 0.9\n",
    "\n",
    "cov_filter[3:-3,3:-3] = 1"
   ]
  },
  {
   "cell_type": "code",
   "execution_count": 41,
   "metadata": {},
   "outputs": [
    {
     "data": {
      "text/plain": [
       "array([[0.5, 0.5, 0.5, 0.5, 0.5, 0.5, 0.5, 0.5],\n",
       "       [0.5, 0.7, 0.7, 0.7, 0.7, 0.7, 0.7, 0.5],\n",
       "       [0.5, 0.7, 0.9, 0.9, 0.9, 0.9, 0.7, 0.5],\n",
       "       [0.5, 0.7, 0.9, 1. , 1. , 0.9, 0.7, 0.5],\n",
       "       [0.5, 0.7, 0.9, 1. , 1. , 0.9, 0.7, 0.5],\n",
       "       [0.5, 0.7, 0.9, 0.9, 0.9, 0.9, 0.7, 0.5],\n",
       "       [0.5, 0.7, 0.7, 0.7, 0.7, 0.7, 0.7, 0.5],\n",
       "       [0.5, 0.5, 0.5, 0.5, 0.5, 0.5, 0.5, 0.5]])"
      ]
     },
     "execution_count": 41,
     "metadata": {},
     "output_type": "execute_result"
    }
   ],
   "source": [
    "cov_filter"
   ]
  },
  {
   "cell_type": "code",
   "execution_count": 42,
   "metadata": {},
   "outputs": [],
   "source": [
    "from scipy.signal import convolve2d"
   ]
  },
  {
   "cell_type": "code",
   "execution_count": 46,
   "metadata": {},
   "outputs": [
    {
     "data": {
      "text/plain": [
       "array([[1., 1., 1., 1., 1., 1., 1., 1.],\n",
       "       [1., 1., 1., 1., 1., 1., 1., 1.],\n",
       "       [1., 1., 1., 1., 1., 1., 1., 1.],\n",
       "       [1., 1., 1., 1., 1., 1., 1., 1.],\n",
       "       [1., 1., 1., 1., 1., 1., 1., 1.],\n",
       "       [1., 1., 1., 1., 1., 1., 1., 1.],\n",
       "       [1., 1., 1., 1., 1., 1., 1., 1.],\n",
       "       [1., 1., 1., 1., 1., 1., 1., 1.]])"
      ]
     },
     "metadata": {},
     "output_type": "display_data"
    },
    {
     "data": {
      "text/plain": [
       "array([[1, 2, 3],\n",
       "       [4, 5, 6]])"
      ]
     },
     "metadata": {},
     "output_type": "display_data"
    },
    {
     "data": {
      "text/plain": [
       "array([[ 1.,  3.,  6.,  6.,  6.,  6.,  6.,  6.,  5.,  3.],\n",
       "       [ 5., 12., 21., 21., 21., 21., 21., 21., 16.,  9.],\n",
       "       [ 5., 12., 21., 21., 21., 21., 21., 21., 16.,  9.],\n",
       "       [ 5., 12., 21., 21., 21., 21., 21., 21., 16.,  9.],\n",
       "       [ 5., 12., 21., 21., 21., 21., 21., 21., 16.,  9.],\n",
       "       [ 5., 12., 21., 21., 21., 21., 21., 21., 16.,  9.],\n",
       "       [ 5., 12., 21., 21., 21., 21., 21., 21., 16.,  9.],\n",
       "       [ 5., 12., 21., 21., 21., 21., 21., 21., 16.,  9.],\n",
       "       [ 4.,  9., 15., 15., 15., 15., 15., 15., 11.,  6.]])"
      ]
     },
     "execution_count": 46,
     "metadata": {},
     "output_type": "execute_result"
    }
   ],
   "source": [
    "array=np.ones((8,8))\n",
    "kernel=np.array([[1,2,3],[4,5,6]])\n",
    "display(array)\n",
    "display(kernel)\n",
    "convolve2d(array,kernel)"
   ]
  },
  {
   "cell_type": "code",
   "execution_count": null,
   "metadata": {},
   "outputs": [],
   "source": []
  }
 ],
 "metadata": {
  "kernelspec": {
   "display_name": "Python 3",
   "language": "python",
   "name": "python3"
  },
  "language_info": {
   "codemirror_mode": {
    "name": "ipython",
    "version": 3
   },
   "file_extension": ".py",
   "mimetype": "text/x-python",
   "name": "python",
   "nbconvert_exporter": "python",
   "pygments_lexer": "ipython3",
   "version": "3.7.0"
  }
 },
 "nbformat": 4,
 "nbformat_minor": 2
}
