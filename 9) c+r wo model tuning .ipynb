{
 "cells": [
  {
   "cell_type": "code",
   "execution_count": 1,
   "metadata": {},
   "outputs": [
    {
     "data": {
      "text/html": [
       "<style>.container { width:90% !important; }</style>"
      ],
      "text/plain": [
       "<IPython.core.display.HTML object>"
      ]
     },
     "metadata": {},
     "output_type": "display_data"
    }
   ],
   "source": [
    "import pandas as pd\n",
    "import numpy as np\n",
    "import matplotlib.pyplot as plt\n",
    "import seaborn as sns\n",
    "%matplotlib inline\n",
    "from IPython.core.display import display, HTML\n",
    "display(HTML(\"<style>.container { width:90% !important; }</style>\"))\n",
    "pd.options.display.max_columns = 999\n",
    "import myLogFun\n",
    "from sklearn.model_selection import train_test_split\n",
    "from sklearn.preprocessing import StandardScaler\n",
    "from sklearn.metrics import r2_score\n",
    "from sklearn.model_selection import GridSearchCV\n",
    "import warnings\n",
    "warnings.filterwarnings('ignore')\n",
    "import lightgbm as lgb\n",
    "from sklearn.preprocessing import PolynomialFeatures"
   ]
  },
  {
   "cell_type": "code",
   "execution_count": 2,
   "metadata": {},
   "outputs": [
    {
     "data": {
      "text/html": [
       "<div>\n",
       "<style scoped>\n",
       "    .dataframe tbody tr th:only-of-type {\n",
       "        vertical-align: middle;\n",
       "    }\n",
       "\n",
       "    .dataframe tbody tr th {\n",
       "        vertical-align: top;\n",
       "    }\n",
       "\n",
       "    .dataframe thead th {\n",
       "        text-align: right;\n",
       "    }\n",
       "</style>\n",
       "<table border=\"1\" class=\"dataframe\">\n",
       "  <thead>\n",
       "    <tr style=\"text-align: right;\">\n",
       "      <th></th>\n",
       "      <th>ln_Number of Subscribers</th>\n",
       "      <th>ln_Average DL Throughput (kbit/s)</th>\n",
       "      <th>Average UL Throughput (kbit/s)</th>\n",
       "      <th>ln_DL IBLER (%)</th>\n",
       "      <th>ln_UL IBLER (%)</th>\n",
       "      <th>DL MCS (only for Initial Transmission)</th>\n",
       "      <th>UL MCS (only for Initial Transmission)</th>\n",
       "      <th>ln_UL Spectrum Efficiency (bps/HZ)</th>\n",
       "      <th>RSRP(All MRs) (dBm)</th>\n",
       "      <th>ln_MR Count</th>\n",
       "      <th>Total Traffic Volume (MB)</th>\n",
       "      <th>cluster_id</th>\n",
       "    </tr>\n",
       "  </thead>\n",
       "  <tbody>\n",
       "    <tr>\n",
       "      <th>0</th>\n",
       "      <td>3.258097</td>\n",
       "      <td>8.668722</td>\n",
       "      <td>1023.061</td>\n",
       "      <td>2.604170</td>\n",
       "      <td>3.148882</td>\n",
       "      <td>8.0</td>\n",
       "      <td>17.0</td>\n",
       "      <td>-1.427116</td>\n",
       "      <td>-115.06</td>\n",
       "      <td>5.313206</td>\n",
       "      <td>67.130</td>\n",
       "      <td>0</td>\n",
       "    </tr>\n",
       "    <tr>\n",
       "      <th>1</th>\n",
       "      <td>3.912023</td>\n",
       "      <td>8.508687</td>\n",
       "      <td>1409.271</td>\n",
       "      <td>2.730464</td>\n",
       "      <td>3.065725</td>\n",
       "      <td>8.0</td>\n",
       "      <td>15.0</td>\n",
       "      <td>-1.171183</td>\n",
       "      <td>-114.87</td>\n",
       "      <td>6.416732</td>\n",
       "      <td>218.492</td>\n",
       "      <td>0</td>\n",
       "    </tr>\n",
       "    <tr>\n",
       "      <th>2</th>\n",
       "      <td>3.044522</td>\n",
       "      <td>8.615236</td>\n",
       "      <td>1471.403</td>\n",
       "      <td>2.679651</td>\n",
       "      <td>3.360723</td>\n",
       "      <td>7.0</td>\n",
       "      <td>16.0</td>\n",
       "      <td>-1.272966</td>\n",
       "      <td>-114.08</td>\n",
       "      <td>5.429346</td>\n",
       "      <td>109.247</td>\n",
       "      <td>0</td>\n",
       "    </tr>\n",
       "    <tr>\n",
       "      <th>3</th>\n",
       "      <td>0.693147</td>\n",
       "      <td>8.216814</td>\n",
       "      <td>865.221</td>\n",
       "      <td>2.989211</td>\n",
       "      <td>2.311545</td>\n",
       "      <td>5.0</td>\n",
       "      <td>16.0</td>\n",
       "      <td>-2.207275</td>\n",
       "      <td>-113.83</td>\n",
       "      <td>4.795791</td>\n",
       "      <td>3.864</td>\n",
       "      <td>0</td>\n",
       "    </tr>\n",
       "    <tr>\n",
       "      <th>4</th>\n",
       "      <td>3.610918</td>\n",
       "      <td>8.487582</td>\n",
       "      <td>1314.256</td>\n",
       "      <td>2.632608</td>\n",
       "      <td>3.216473</td>\n",
       "      <td>7.0</td>\n",
       "      <td>12.0</td>\n",
       "      <td>-1.347074</td>\n",
       "      <td>-113.01</td>\n",
       "      <td>5.981414</td>\n",
       "      <td>144.107</td>\n",
       "      <td>0</td>\n",
       "    </tr>\n",
       "  </tbody>\n",
       "</table>\n",
       "</div>"
      ],
      "text/plain": [
       "   ln_Number of Subscribers  ln_Average DL Throughput (kbit/s)  \\\n",
       "0                  3.258097                           8.668722   \n",
       "1                  3.912023                           8.508687   \n",
       "2                  3.044522                           8.615236   \n",
       "3                  0.693147                           8.216814   \n",
       "4                  3.610918                           8.487582   \n",
       "\n",
       "   Average UL Throughput (kbit/s)  ln_DL IBLER (%)  ln_UL IBLER (%)  \\\n",
       "0                        1023.061         2.604170         3.148882   \n",
       "1                        1409.271         2.730464         3.065725   \n",
       "2                        1471.403         2.679651         3.360723   \n",
       "3                         865.221         2.989211         2.311545   \n",
       "4                        1314.256         2.632608         3.216473   \n",
       "\n",
       "   DL MCS (only for Initial Transmission)  \\\n",
       "0                                     8.0   \n",
       "1                                     8.0   \n",
       "2                                     7.0   \n",
       "3                                     5.0   \n",
       "4                                     7.0   \n",
       "\n",
       "   UL MCS (only for Initial Transmission)  ln_UL Spectrum Efficiency (bps/HZ)  \\\n",
       "0                                    17.0                           -1.427116   \n",
       "1                                    15.0                           -1.171183   \n",
       "2                                    16.0                           -1.272966   \n",
       "3                                    16.0                           -2.207275   \n",
       "4                                    12.0                           -1.347074   \n",
       "\n",
       "   RSRP(All MRs) (dBm)  ln_MR Count  Total Traffic Volume (MB)  cluster_id  \n",
       "0              -115.06     5.313206                     67.130           0  \n",
       "1              -114.87     6.416732                    218.492           0  \n",
       "2              -114.08     5.429346                    109.247           0  \n",
       "3              -113.83     4.795791                      3.864           0  \n",
       "4              -113.01     5.981414                    144.107           0  "
      ]
     },
     "execution_count": 2,
     "metadata": {},
     "output_type": "execute_result"
    }
   ],
   "source": [
    "clustered_df = pd.read_csv('../files/cluster_df.csv')\n",
    "coor_df = clustered_df[['Latitude','Longitude']]\n",
    "clustered_df = clustered_df.drop(['Latitude','Longitude','color'],axis=1)\n",
    "clustered_df_log,log_tran_col = myLogFun.log_tran(clustered_df.copy(),['Total Traffic Volume (MB)','cluster_id'])\n",
    "clustered_df_log.head()"
   ]
  },
  {
   "cell_type": "code",
   "execution_count": 4,
   "metadata": {},
   "outputs": [],
   "source": [
    "cluster_cnt_df = pd.DataFrame(clustered_df_log['cluster_id'].value_counts()).reset_index()"
   ]
  },
  {
   "cell_type": "code",
   "execution_count": 5,
   "metadata": {},
   "outputs": [],
   "source": [
    "cluster_cnt_df.columns = ['cluster id','total grid count']"
   ]
  },
  {
   "cell_type": "code",
   "execution_count": 6,
   "metadata": {},
   "outputs": [
    {
     "data": {
      "text/html": [
       "<div>\n",
       "<style scoped>\n",
       "    .dataframe tbody tr th:only-of-type {\n",
       "        vertical-align: middle;\n",
       "    }\n",
       "\n",
       "    .dataframe tbody tr th {\n",
       "        vertical-align: top;\n",
       "    }\n",
       "\n",
       "    .dataframe thead th {\n",
       "        text-align: right;\n",
       "    }\n",
       "</style>\n",
       "<table border=\"1\" class=\"dataframe\">\n",
       "  <thead>\n",
       "    <tr style=\"text-align: right;\">\n",
       "      <th></th>\n",
       "      <th>cluster id</th>\n",
       "      <th>total grid count</th>\n",
       "    </tr>\n",
       "  </thead>\n",
       "  <tbody>\n",
       "    <tr>\n",
       "      <th>0</th>\n",
       "      <td>0</td>\n",
       "      <td>53824</td>\n",
       "    </tr>\n",
       "    <tr>\n",
       "      <th>1</th>\n",
       "      <td>1</td>\n",
       "      <td>54712</td>\n",
       "    </tr>\n",
       "    <tr>\n",
       "      <th>2</th>\n",
       "      <td>2</td>\n",
       "      <td>82274</td>\n",
       "    </tr>\n",
       "    <tr>\n",
       "      <th>3</th>\n",
       "      <td>3</td>\n",
       "      <td>39018</td>\n",
       "    </tr>\n",
       "    <tr>\n",
       "      <th>4</th>\n",
       "      <td>4</td>\n",
       "      <td>41047</td>\n",
       "    </tr>\n",
       "    <tr>\n",
       "      <th>5</th>\n",
       "      <td>5</td>\n",
       "      <td>157</td>\n",
       "    </tr>\n",
       "    <tr>\n",
       "      <th>6</th>\n",
       "      <td>6</td>\n",
       "      <td>54270</td>\n",
       "    </tr>\n",
       "  </tbody>\n",
       "</table>\n",
       "</div>"
      ],
      "text/plain": [
       "   cluster id  total grid count\n",
       "0           0             53824\n",
       "1           1             54712\n",
       "2           2             82274\n",
       "3           3             39018\n",
       "4           4             41047\n",
       "5           5               157\n",
       "6           6             54270"
      ]
     },
     "execution_count": 6,
     "metadata": {},
     "output_type": "execute_result"
    }
   ],
   "source": [
    "cluster_cnt_df.sort_values(by='cluster id').reset_index(drop=True)"
   ]
  },
  {
   "cell_type": "markdown",
   "metadata": {},
   "source": [
    "compute the baseline with only one model"
   ]
  },
  {
   "cell_type": "code",
   "execution_count": 7,
   "metadata": {},
   "outputs": [],
   "source": [
    "# defining the variable\n",
    "X = clustered_df_log.drop(['Total Traffic Volume (MB)','cluster_id'],axis=1).values\n",
    "y = clustered_df_log['Total Traffic Volume (MB)'].values\n",
    "\n",
    "# scaling\n",
    "scX = StandardScaler()\n",
    "X = scX.fit_transform(X)\n",
    "scy = StandardScaler()\n",
    "y = scy.fit_transform(y.reshape(-1,1))\n",
    "\n",
    "# split data\n",
    "X_train,X_test,y_train,y_test=train_test_split(X,y,test_size=0.3, random_state=42)"
   ]
  },
  {
   "cell_type": "markdown",
   "metadata": {},
   "source": [
    "using boosting method"
   ]
  },
  {
   "cell_type": "code",
   "execution_count": 14,
   "metadata": {},
   "outputs": [
    {
     "data": {
      "text/plain": [
       "0.46162083812109667"
      ]
     },
     "execution_count": 14,
     "metadata": {},
     "output_type": "execute_result"
    }
   ],
   "source": [
    "# defining the model\n",
    "model_lgb = lgb.LGBMRegressor(learning_rate=0.05,n_estimators=2000,num_leaves=100)\n",
    "model_lgb.fit(X_train,y_train)\n",
    "\n",
    "# predict and test the model\n",
    "y_pred = model_lgb.predict(X_test)\n",
    "r2_score(y_test,y_pred)"
   ]
  },
  {
   "cell_type": "markdown",
   "metadata": {},
   "source": [
    "more baseline with decision tree regeression"
   ]
  },
  {
   "cell_type": "code",
   "execution_count": 8,
   "metadata": {},
   "outputs": [],
   "source": [
    "from sklearn.tree import DecisionTreeRegressor\n",
    "from sklearn.tree import export_graphviz"
   ]
  },
  {
   "cell_type": "code",
   "execution_count": 9,
   "metadata": {},
   "outputs": [
    {
     "data": {
      "text/plain": [
       "0.35183631957213934"
      ]
     },
     "execution_count": 9,
     "metadata": {},
     "output_type": "execute_result"
    }
   ],
   "source": [
    "tree_regressor = DecisionTreeRegressor(min_samples_leaf=10,min_samples_split=5,max_depth=10)\n",
    "tree_regressor.fit(X_train,y_train)\n",
    "\n",
    "# predict and test the model\n",
    "y_pred = tree_regressor.predict(X_test)\n",
    "r2_score(y_test,y_pred)"
   ]
  },
  {
   "cell_type": "code",
   "execution_count": 10,
   "metadata": {},
   "outputs": [],
   "source": [
    "export_graphviz(tree_regressor, out_file='tree.dot', feature_names = clustered_df_log.columns[:-2],\n",
    "                rounded = True, proportion = False, precision = 2, filled = True)"
   ]
  },
  {
   "cell_type": "code",
   "execution_count": 12,
   "metadata": {},
   "outputs": [],
   "source": [
    "!dot -Tpng tree.dot -o tree_limited.png -Gdpi=600"
   ]
  },
  {
   "cell_type": "code",
   "execution_count": null,
   "metadata": {},
   "outputs": [],
   "source": [
    "from IPython.display import Image\n",
    "Image(filename = 'tree_limited.png')"
   ]
  },
  {
   "cell_type": "markdown",
   "metadata": {},
   "source": [
    "separate model for each cluster"
   ]
  },
  {
   "cell_type": "code",
   "execution_count": 3,
   "metadata": {},
   "outputs": [],
   "source": [
    "c_df_log_list = []\n",
    "for i in range(7):\n",
    "    c_df_log_list.append(clustered_df_log[clustered_df_log['cluster_id']==i])"
   ]
  },
  {
   "cell_type": "code",
   "execution_count": 4,
   "metadata": {},
   "outputs": [],
   "source": [
    "X_list = []\n",
    "y_list = []\n",
    "scX_list = []\n",
    "scy_list = []\n",
    "X_train_list = []\n",
    "X_test_list = []\n",
    "y_train_list = []\n",
    "y_test_list = []\n",
    "\n",
    "for i in range(7):\n",
    "    X_list.append(c_df_log_list[i].drop(['Total Traffic Volume (MB)','cluster_id'],axis=1).values)\n",
    "    y_list.append(c_df_log_list[i]['Total Traffic Volume (MB)'].values)\n",
    "    scX_list.append(StandardScaler())\n",
    "    scy_list.append(StandardScaler())\n",
    "    X_list[i] = scX_list[i].fit_transform(X_list[i])\n",
    "    y_list[i] = scy_list[i].fit_transform(y_list[i].reshape(-1,1))\n",
    "    X_train,X_test,y_train,y_test=train_test_split(X_list[i],y_list[i],test_size=0.3, random_state=42)\n",
    "    X_train_list.append(X_train)\n",
    "    X_test_list.append(X_test)\n",
    "    y_train_list.append(y_train)\n",
    "    y_test_list.append(y_test)"
   ]
  },
  {
   "cell_type": "markdown",
   "metadata": {},
   "source": [
    "using boosting method"
   ]
  },
  {
   "cell_type": "code",
   "execution_count": 10,
   "metadata": {},
   "outputs": [],
   "source": [
    "#gcv_list = []\n",
    "y_pred_list = []\n",
    "r2_score_list = []\n",
    "param = {\n",
    "        'learning_rate':[0.1,0.05,0.01],\n",
    "        'boosting_type':['gbdt'],\n",
    "        'metric':['mse'],\n",
    "        'num_leaves':[30,50,70],\n",
    "        }\n",
    "\n",
    "\n",
    "for i in range(7):\n",
    "    #lgb_regressor = lgb.LGBMRegressor(n_estimators=2000)\n",
    "    #gcv_list.append(GridSearchCV(lgb_regressor,param,cv=5))\n",
    "    #gcv_list[i].fit(X_train_list[i],y_train_list[i])\n",
    "    y_pred_list.append(gcv_list[i].best_estimator_.predict(X_test_list[i]))\n",
    "    r2_score_list.append(r2_score(y_test_list[i],y_pred_list[i]))"
   ]
  },
  {
   "cell_type": "code",
   "execution_count": 11,
   "metadata": {},
   "outputs": [
    {
     "data": {
      "text/plain": [
       "[0.5232074809158624,\n",
       " 0.7050334342377316,\n",
       " 0.5687090084498791,\n",
       " 0.6722930666860876,\n",
       " 0.7390917534539746,\n",
       " -0.036127162378045696,\n",
       " 0.5604258906594823]"
      ]
     },
     "execution_count": 11,
     "metadata": {},
     "output_type": "execute_result"
    }
   ],
   "source": [
    "r2_score_list"
   ]
  },
  {
   "cell_type": "markdown",
   "metadata": {},
   "source": [
    "using decision tree regressor"
   ]
  },
  {
   "cell_type": "code",
   "execution_count": null,
   "metadata": {},
   "outputs": [],
   "source": [
    "model_list = []\n",
    "y_pred_list = []\n",
    "r2_score_list = []\n",
    "for i in range(7):\n",
    "    model_list.append(DecisionTreeRegressor(min_samples_leaf=10,min_samples_split=5,max_depth=30))\n",
    "    model_list[i].fit(X_train_list[i],y_train_list[i])\n",
    "    y_pred_list.append(model_list[i].predict(X_test_list[i]))\n",
    "    r2_score_list.append(r2_score(y_test_list[i],y_pred_list[i]))"
   ]
  },
  {
   "cell_type": "markdown",
   "metadata": {},
   "source": [
    "using linear regression"
   ]
  },
  {
   "cell_type": "code",
   "execution_count": 33,
   "metadata": {},
   "outputs": [],
   "source": [
    "from sklearn.linear_model import LinearRegression\n",
    "model_list = []\n",
    "y_pred_list = []\n",
    "r2_score_list = []\n",
    "for i in range(7):\n",
    "    model_list.append(LinearRegression())\n",
    "    model_list[i].fit(X_train_list[i],y_train_list[i])\n",
    "    y_pred_list.append(model_list[i].predict(X_test_list[i]))\n",
    "    r2_score_list.append(r2_score(y_test_list[i],y_pred_list[i]))"
   ]
  },
  {
   "cell_type": "code",
   "execution_count": 34,
   "metadata": {},
   "outputs": [
    {
     "data": {
      "text/plain": [
       "[0.34833420301785434,\n",
       " 0.49940518893568064,\n",
       " 0.49143003317965306,\n",
       " 0.5338046039885782,\n",
       " 0.41734778065357736,\n",
       " -0.03946031433732533,\n",
       " 0.3677118227084092]"
      ]
     },
     "execution_count": 34,
     "metadata": {},
     "output_type": "execute_result"
    }
   ],
   "source": [
    "r2_score_list"
   ]
  },
  {
   "cell_type": "markdown",
   "metadata": {},
   "source": [
    "linear regression with feature selection"
   ]
  },
  {
   "cell_type": "code",
   "execution_count": 59,
   "metadata": {},
   "outputs": [],
   "source": [
    "import statsmodels.formula.api as sm\n",
    "def backwardElimination2(x,y, SL):\n",
    "    numVars = len(x[0])\n",
    "    temp = np.zeros((x.shape[0],x.shape[1])).astype(int)\n",
    "    for i in range(0, numVars):\n",
    "        regressor_OLS = sm.OLS(y, x).fit()\n",
    "        maxVar = max(regressor_OLS.pvalues).astype(float)\n",
    "        adjR_before = regressor_OLS.rsquared_adj.astype(float)\n",
    "        if maxVar > SL:\n",
    "            for j in range(0, numVars - i):\n",
    "                if (regressor_OLS.pvalues[j].astype(float) == maxVar):\n",
    "                    temp[:,j] = x[:, j]\n",
    "                    x = np.delete(x, j, 1)\n",
    "                    tmp_regressor = sm.OLS(y, x).fit()\n",
    "                    adjR_after = tmp_regressor.rsquared_adj.astype(float)\n",
    "                    if (adjR_before >= adjR_after):\n",
    "                        x_rollback = np.hstack((x, temp[:,[0,j]]))\n",
    "                        x_rollback = np.delete(x_rollback, j, 1)\n",
    "                        print (regressor_OLS.summary())\n",
    "                        return x_rollback\n",
    "                    else:\n",
    "                        continue\n",
    "    print(regressor_OLS.summary())\n",
    "    return x\n",
    " \n",
    "SL = 0.05"
   ]
  },
  {
   "cell_type": "code",
   "execution_count": 57,
   "metadata": {},
   "outputs": [],
   "source": [
    "import statsmodels.formula.api as sm\n",
    "def backwardElimination1(x,y, sl):\n",
    "    numVars = len(x[0])\n",
    "    for i in range(0, numVars):\n",
    "        regressor_OLS = sm.OLS(y, x).fit()\n",
    "        maxVar = max(regressor_OLS.pvalues).astype(float)\n",
    "        if maxVar > sl:\n",
    "            for j in range(0, numVars - i):\n",
    "                if (regressor_OLS.pvalues[j].astype(float) == maxVar):\n",
    "                    x = np.delete(x, j, 1)\n",
    "    print(regressor_OLS.summary())\n",
    "    return x\n",
    " \n",
    "SL = 0.05"
   ]
  },
  {
   "cell_type": "code",
   "execution_count": 63,
   "metadata": {},
   "outputs": [
    {
     "name": "stdout",
     "output_type": "stream",
     "text": [
      "                            OLS Regression Results                            \n",
      "==============================================================================\n",
      "Dep. Variable:                      y   R-squared:                       0.481\n",
      "Model:                            OLS   Adj. R-squared:                  0.481\n",
      "Method:                 Least Squares   F-statistic:                     5328.\n",
      "Date:                Mon, 29 Oct 2018   Prob (F-statistic):               0.00\n",
      "Time:                        11:17:46   Log-Likelihood:                -63255.\n",
      "No. Observations:               57591   AIC:                         1.265e+05\n",
      "Df Residuals:                   57580   BIC:                         1.266e+05\n",
      "Df Model:                          10                                         \n",
      "Covariance Type:            nonrobust                                         \n",
      "==============================================================================\n",
      "                 coef    std err          t      P>|t|      [0.025      0.975]\n",
      "------------------------------------------------------------------------------\n",
      "const          0.0012      0.003      0.410      0.682      -0.005       0.007\n",
      "x1            -0.0175      0.003     -5.719      0.000      -0.024      -0.012\n",
      "x2             0.0603      0.003     17.497      0.000       0.054       0.067\n",
      "x3            -0.1085      0.003    -34.527      0.000      -0.115      -0.102\n",
      "x4             0.0139      0.003      4.396      0.000       0.008       0.020\n",
      "x5             0.0098      0.003      3.028      0.002       0.003       0.016\n",
      "x6             0.0750      0.003     22.414      0.000       0.068       0.082\n",
      "x7             0.0783      0.003     23.157      0.000       0.072       0.085\n",
      "x8             0.0512      0.003     15.896      0.000       0.045       0.058\n",
      "x9            -0.0450      0.003    -14.184      0.000      -0.051      -0.039\n",
      "x10            0.6987      0.003    215.623      0.000       0.692       0.705\n",
      "==============================================================================\n",
      "Omnibus:                    55475.084   Durbin-Watson:                   2.002\n",
      "Prob(Omnibus):                  0.000   Jarque-Bera (JB):          9222209.345\n",
      "Skew:                           4.245   Prob(JB):                         0.00\n",
      "Kurtosis:                      64.409   Cond. No.                         1.89\n",
      "==============================================================================\n",
      "\n",
      "Warnings:\n",
      "[1] Standard Errors assume that the covariance matrix of the errors is correctly specified.\n"
     ]
    }
   ],
   "source": [
    "c_id=2\n",
    "X = np.append(arr = np.ones((X_train_list[c_id].shape[0], 1)).astype(int), values = X_train_list[c_id], axis = 1)\n",
    "y=y_train_list[c_id]\n",
    "X_Modeled = backwardElimination2(X,y, SL)"
   ]
  },
  {
   "cell_type": "markdown",
   "metadata": {},
   "source": [
    "feature correlation"
   ]
  },
  {
   "cell_type": "code",
   "execution_count": 26,
   "metadata": {},
   "outputs": [],
   "source": [
    "corr_list = []\n",
    "for i in range(7):\n",
    "    corr = []\n",
    "    for j in range(X_list[i].shape[1]):\n",
    "        corr.append(np.corrcoef(X_list[i][:,j],X_list[i][:,8])[0][1])\n",
    "    corr = np.array(corr)\n",
    "    corr_list.append(corr)"
   ]
  },
  {
   "cell_type": "markdown",
   "metadata": {},
   "source": [
    "# Bring in the PA"
   ]
  },
  {
   "cell_type": "code",
   "execution_count": 1,
   "metadata": {},
   "outputs": [],
   "source": [
    "import fiona\n",
    "from shapely.geometry import Point\n",
    "from shapely.geometry.polygon import Polygon\n",
    "pa = fiona.open(\"../files/shape files/RNC_PA_region.shp\")"
   ]
  },
  {
   "cell_type": "code",
   "execution_count": 30,
   "metadata": {},
   "outputs": [],
   "source": [
    "pa_poly = [Polygon(item['geometry']['coordinates'][0]) for item in pa]"
   ]
  },
  {
   "cell_type": "code",
   "execution_count": 36,
   "metadata": {},
   "outputs": [
    {
     "data": {
      "application/vnd.jupyter.widget-view+json": {
       "model_id": "bcf983a5f9874012b0ebf9c8da81ae65",
       "version_major": 2,
       "version_minor": 0
      },
      "text/plain": [
       "HBox(children=(IntProgress(value=0, max=7), HTML(value='')))"
      ]
     },
     "metadata": {},
     "output_type": "display_data"
    },
    {
     "name": "stdout",
     "output_type": "stream",
     "text": [
      "\n"
     ]
    }
   ],
   "source": [
    "from tqdm import tqdm_notebook\n",
    "\n",
    "for i in tqdm_notebook(range(7)):\n",
    "\n",
    "    target_rsrp = -80\n",
    "    rsrp_arr = np.zeros((10,))\n",
    "    rsrp_arr[8] = target_rsrp\n",
    "    rsrp_arr_tran = scX_list[i].transform(rsrp_arr.reshape(1,-1))[0]\n",
    "\n",
    "    pred_traff=[]\n",
    "    for j in range(X_list[i].shape[0]):\n",
    "\n",
    "        num_feat = X_list[i][j,:10]\n",
    "\n",
    "        diff_sc = rsrp_arr_tran[8] - num_feat[8]\n",
    "\n",
    "        new_num_feat = num_feat + diff_sc*corr\n",
    "\n",
    "        pred_traff.append(scy.inverse_transform(model_lgb.predict(new_num_feat.reshape(1,-1)))[0])\n",
    "\n",
    "    c_df_log_list[i]['pred_traffic'] = pred_traff\n",
    "    c_df_log_list[i]['pred_improved_traffic'] = c_df_log_list[i]['pred_traffic'] - c_df_log_list[i]['Total Traffic Volume (MB)']"
   ]
  },
  {
   "cell_type": "code",
   "execution_count": 43,
   "metadata": {},
   "outputs": [],
   "source": [
    "c_df_log = pd.concat([c_df_log_list[0], c_df_log_list[1], c_df_log_list[2], c_df_log_list[3],\n",
    "                     c_df_log_list[4], c_df_log_list[5], c_df_log_list[6]],axis=0)"
   ]
  },
  {
   "cell_type": "code",
   "execution_count": 44,
   "metadata": {},
   "outputs": [
    {
     "name": "stdout",
     "output_type": "stream",
     "text": [
      "master df shape: (325302, 17)\n",
      "lat lng df shape: (325302, 3)\n"
     ]
    }
   ],
   "source": [
    "c_df_log.sort_index(inplace=True)\n",
    "c_df_log = pd.concat([c_df_log,coor_df],axis=1)\n",
    "print('master df shape:',c_df_log.shape)\n",
    "print('lat lng df shape:',coor_df.shape)"
   ]
  },
  {
   "cell_type": "code",
   "execution_count": 45,
   "metadata": {},
   "outputs": [
    {
     "data": {
      "text/html": [
       "<div>\n",
       "<style scoped>\n",
       "    .dataframe tbody tr th:only-of-type {\n",
       "        vertical-align: middle;\n",
       "    }\n",
       "\n",
       "    .dataframe tbody tr th {\n",
       "        vertical-align: top;\n",
       "    }\n",
       "\n",
       "    .dataframe thead th {\n",
       "        text-align: right;\n",
       "    }\n",
       "</style>\n",
       "<table border=\"1\" class=\"dataframe\">\n",
       "  <thead>\n",
       "    <tr style=\"text-align: right;\">\n",
       "      <th></th>\n",
       "      <th>ln_Number of Subscribers</th>\n",
       "      <th>ln_Average DL Throughput (kbit/s)</th>\n",
       "      <th>Average UL Throughput (kbit/s)</th>\n",
       "      <th>ln_DL IBLER (%)</th>\n",
       "      <th>ln_UL IBLER (%)</th>\n",
       "      <th>DL MCS (only for Initial Transmission)</th>\n",
       "      <th>UL MCS (only for Initial Transmission)</th>\n",
       "      <th>ln_UL Spectrum Efficiency (bps/HZ)</th>\n",
       "      <th>RSRP(All MRs) (dBm)</th>\n",
       "      <th>ln_MR Count</th>\n",
       "      <th>Total Traffic Volume (MB)</th>\n",
       "      <th>cluster_id</th>\n",
       "      <th>pred_traffic</th>\n",
       "      <th>pred_improved_traffic</th>\n",
       "      <th>Latitude</th>\n",
       "      <th>Longitude</th>\n",
       "      <th>cluster_id</th>\n",
       "    </tr>\n",
       "  </thead>\n",
       "  <tbody>\n",
       "    <tr>\n",
       "      <th>0</th>\n",
       "      <td>3.258097</td>\n",
       "      <td>8.668722</td>\n",
       "      <td>1023.061</td>\n",
       "      <td>2.604170</td>\n",
       "      <td>3.148882</td>\n",
       "      <td>8.0</td>\n",
       "      <td>17.0</td>\n",
       "      <td>-1.427116</td>\n",
       "      <td>-115.06</td>\n",
       "      <td>5.313206</td>\n",
       "      <td>67.130</td>\n",
       "      <td>0</td>\n",
       "      <td>18313.967942</td>\n",
       "      <td>18246.837942</td>\n",
       "      <td>13.587841</td>\n",
       "      <td>100.549038</td>\n",
       "      <td>0</td>\n",
       "    </tr>\n",
       "    <tr>\n",
       "      <th>1</th>\n",
       "      <td>3.912023</td>\n",
       "      <td>8.508687</td>\n",
       "      <td>1409.271</td>\n",
       "      <td>2.730464</td>\n",
       "      <td>3.065725</td>\n",
       "      <td>8.0</td>\n",
       "      <td>15.0</td>\n",
       "      <td>-1.171183</td>\n",
       "      <td>-114.87</td>\n",
       "      <td>6.416732</td>\n",
       "      <td>218.492</td>\n",
       "      <td>0</td>\n",
       "      <td>23348.110106</td>\n",
       "      <td>23129.618106</td>\n",
       "      <td>13.587841</td>\n",
       "      <td>100.549488</td>\n",
       "      <td>0</td>\n",
       "    </tr>\n",
       "    <tr>\n",
       "      <th>2</th>\n",
       "      <td>3.044522</td>\n",
       "      <td>8.615236</td>\n",
       "      <td>1471.403</td>\n",
       "      <td>2.679651</td>\n",
       "      <td>3.360723</td>\n",
       "      <td>7.0</td>\n",
       "      <td>16.0</td>\n",
       "      <td>-1.272966</td>\n",
       "      <td>-114.08</td>\n",
       "      <td>5.429346</td>\n",
       "      <td>109.247</td>\n",
       "      <td>0</td>\n",
       "      <td>19545.125447</td>\n",
       "      <td>19435.878447</td>\n",
       "      <td>13.588740</td>\n",
       "      <td>100.549038</td>\n",
       "      <td>0</td>\n",
       "    </tr>\n",
       "    <tr>\n",
       "      <th>3</th>\n",
       "      <td>0.693147</td>\n",
       "      <td>8.216814</td>\n",
       "      <td>865.221</td>\n",
       "      <td>2.989211</td>\n",
       "      <td>2.311545</td>\n",
       "      <td>5.0</td>\n",
       "      <td>16.0</td>\n",
       "      <td>-2.207275</td>\n",
       "      <td>-113.83</td>\n",
       "      <td>4.795791</td>\n",
       "      <td>3.864</td>\n",
       "      <td>0</td>\n",
       "      <td>2998.125037</td>\n",
       "      <td>2994.261037</td>\n",
       "      <td>13.950268</td>\n",
       "      <td>100.900223</td>\n",
       "      <td>0</td>\n",
       "    </tr>\n",
       "    <tr>\n",
       "      <th>4</th>\n",
       "      <td>3.610918</td>\n",
       "      <td>8.487582</td>\n",
       "      <td>1314.256</td>\n",
       "      <td>2.632608</td>\n",
       "      <td>3.216473</td>\n",
       "      <td>7.0</td>\n",
       "      <td>12.0</td>\n",
       "      <td>-1.347074</td>\n",
       "      <td>-113.01</td>\n",
       "      <td>5.981414</td>\n",
       "      <td>144.107</td>\n",
       "      <td>0</td>\n",
       "      <td>16380.262202</td>\n",
       "      <td>16236.155202</td>\n",
       "      <td>13.588291</td>\n",
       "      <td>100.549038</td>\n",
       "      <td>0</td>\n",
       "    </tr>\n",
       "  </tbody>\n",
       "</table>\n",
       "</div>"
      ],
      "text/plain": [
       "   ln_Number of Subscribers  ln_Average DL Throughput (kbit/s)  \\\n",
       "0                  3.258097                           8.668722   \n",
       "1                  3.912023                           8.508687   \n",
       "2                  3.044522                           8.615236   \n",
       "3                  0.693147                           8.216814   \n",
       "4                  3.610918                           8.487582   \n",
       "\n",
       "   Average UL Throughput (kbit/s)  ln_DL IBLER (%)  ln_UL IBLER (%)  \\\n",
       "0                        1023.061         2.604170         3.148882   \n",
       "1                        1409.271         2.730464         3.065725   \n",
       "2                        1471.403         2.679651         3.360723   \n",
       "3                         865.221         2.989211         2.311545   \n",
       "4                        1314.256         2.632608         3.216473   \n",
       "\n",
       "   DL MCS (only for Initial Transmission)  \\\n",
       "0                                     8.0   \n",
       "1                                     8.0   \n",
       "2                                     7.0   \n",
       "3                                     5.0   \n",
       "4                                     7.0   \n",
       "\n",
       "   UL MCS (only for Initial Transmission)  ln_UL Spectrum Efficiency (bps/HZ)  \\\n",
       "0                                    17.0                           -1.427116   \n",
       "1                                    15.0                           -1.171183   \n",
       "2                                    16.0                           -1.272966   \n",
       "3                                    16.0                           -2.207275   \n",
       "4                                    12.0                           -1.347074   \n",
       "\n",
       "   RSRP(All MRs) (dBm)  ln_MR Count  Total Traffic Volume (MB)  cluster_id  \\\n",
       "0              -115.06     5.313206                     67.130           0   \n",
       "1              -114.87     6.416732                    218.492           0   \n",
       "2              -114.08     5.429346                    109.247           0   \n",
       "3              -113.83     4.795791                      3.864           0   \n",
       "4              -113.01     5.981414                    144.107           0   \n",
       "\n",
       "   pred_traffic  pred_improved_traffic   Latitude   Longitude  cluster_id  \n",
       "0  18313.967942           18246.837942  13.587841  100.549038           0  \n",
       "1  23348.110106           23129.618106  13.587841  100.549488           0  \n",
       "2  19545.125447           19435.878447  13.588740  100.549038           0  \n",
       "3   2998.125037            2994.261037  13.950268  100.900223           0  \n",
       "4  16380.262202           16236.155202  13.588291  100.549038           0  "
      ]
     },
     "execution_count": 45,
     "metadata": {},
     "output_type": "execute_result"
    }
   ],
   "source": [
    "c_df_log.head()"
   ]
  },
  {
   "cell_type": "code",
   "execution_count": 47,
   "metadata": {},
   "outputs": [
    {
     "name": "stderr",
     "output_type": "stream",
     "text": [
      "100%|██████████| 325302/325302 [13:47<00:00, 393.14it/s]\n"
     ]
    }
   ],
   "source": [
    "from tqdm import tqdm\n",
    "tqdm.pandas()\n",
    "\n",
    "def map_coor2cid(x):\n",
    "    point = Point(x['Longitude'],x['Latitude'])\n",
    "    for i,pa in enumerate(pa_poly):\n",
    "        if pa.contains(point):\n",
    "            return i\n",
    "        \n",
    "c_df_log['pa_id'] = c_df_log.progress_apply(map_coor2cid,axis=1)"
   ]
  },
  {
   "cell_type": "code",
   "execution_count": 49,
   "metadata": {},
   "outputs": [],
   "source": [
    "pa_df = pd.DataFrame(c_df_log.groupby('pa_id')['pred_improved_traffic'].sum()).reset_index()"
   ]
  },
  {
   "cell_type": "code",
   "execution_count": 50,
   "metadata": {},
   "outputs": [
    {
     "name": "stderr",
     "output_type": "stream",
     "text": [
      "100%|██████████| 450/450 [00:00<00:00, 29340.83it/s]\n"
     ]
    }
   ],
   "source": [
    "# find each pa center\n",
    "pa_lng_center = []\n",
    "pa_lat_center = []\n",
    "for item in tqdm(pa):\n",
    "    lng_sum = 0\n",
    "    lat_sum = 0\n",
    "    for coor in item['geometry']['coordinates'][0]:\n",
    "        lng_sum+=coor[0]\n",
    "        lat_sum+=coor[1]\n",
    "    \n",
    "    pa_lng_center.append(lng_sum/len(item['geometry']['coordinates'][0]))\n",
    "    pa_lat_center.append(lat_sum/len(item['geometry']['coordinates'][0]))"
   ]
  },
  {
   "cell_type": "code",
   "execution_count": 51,
   "metadata": {},
   "outputs": [],
   "source": [
    "pa_df_2 = pd.DataFrame({'pa_id':range(450),'lng':pa_lng_center,'lat':pa_lat_center})"
   ]
  },
  {
   "cell_type": "code",
   "execution_count": 52,
   "metadata": {},
   "outputs": [],
   "source": [
    "pa_df = pd.merge(pa_df,pa_df_2,on='pa_id')"
   ]
  },
  {
   "cell_type": "code",
   "execution_count": 53,
   "metadata": {},
   "outputs": [
    {
     "data": {
      "text/html": [
       "<div>\n",
       "<style scoped>\n",
       "    .dataframe tbody tr th:only-of-type {\n",
       "        vertical-align: middle;\n",
       "    }\n",
       "\n",
       "    .dataframe tbody tr th {\n",
       "        vertical-align: top;\n",
       "    }\n",
       "\n",
       "    .dataframe thead th {\n",
       "        text-align: right;\n",
       "    }\n",
       "</style>\n",
       "<table border=\"1\" class=\"dataframe\">\n",
       "  <thead>\n",
       "    <tr style=\"text-align: right;\">\n",
       "      <th></th>\n",
       "      <th>pa_id</th>\n",
       "      <th>pred_improved_traffic</th>\n",
       "      <th>lng</th>\n",
       "      <th>lat</th>\n",
       "    </tr>\n",
       "  </thead>\n",
       "  <tbody>\n",
       "    <tr>\n",
       "      <th>0</th>\n",
       "      <td>2.0</td>\n",
       "      <td>3.139532e+03</td>\n",
       "      <td>100.765343</td>\n",
       "      <td>14.038855</td>\n",
       "    </tr>\n",
       "    <tr>\n",
       "      <th>1</th>\n",
       "      <td>3.0</td>\n",
       "      <td>8.149776e+04</td>\n",
       "      <td>100.716572</td>\n",
       "      <td>13.940437</td>\n",
       "    </tr>\n",
       "    <tr>\n",
       "      <th>2</th>\n",
       "      <td>4.0</td>\n",
       "      <td>2.145318e+06</td>\n",
       "      <td>100.719748</td>\n",
       "      <td>13.921862</td>\n",
       "    </tr>\n",
       "    <tr>\n",
       "      <th>3</th>\n",
       "      <td>5.0</td>\n",
       "      <td>2.587559e+04</td>\n",
       "      <td>100.736650</td>\n",
       "      <td>13.940515</td>\n",
       "    </tr>\n",
       "    <tr>\n",
       "      <th>4</th>\n",
       "      <td>7.0</td>\n",
       "      <td>1.371955e+05</td>\n",
       "      <td>100.711425</td>\n",
       "      <td>13.869243</td>\n",
       "    </tr>\n",
       "  </tbody>\n",
       "</table>\n",
       "</div>"
      ],
      "text/plain": [
       "   pa_id  pred_improved_traffic         lng        lat\n",
       "0    2.0           3.139532e+03  100.765343  14.038855\n",
       "1    3.0           8.149776e+04  100.716572  13.940437\n",
       "2    4.0           2.145318e+06  100.719748  13.921862\n",
       "3    5.0           2.587559e+04  100.736650  13.940515\n",
       "4    7.0           1.371955e+05  100.711425  13.869243"
      ]
     },
     "execution_count": 53,
     "metadata": {},
     "output_type": "execute_result"
    }
   ],
   "source": [
    "pa_df.head()"
   ]
  },
  {
   "cell_type": "code",
   "execution_count": 13,
   "metadata": {},
   "outputs": [
    {
     "data": {
      "text/plain": [
       "[(100.645691, 13.630703),\n",
       " (100.646016, 13.632427),\n",
       " (100.647403, 13.635867),\n",
       " (100.651437, 13.634104),\n",
       " (100.652168, 13.635709),\n",
       " (100.653095, 13.637452),\n",
       " (100.660523, 13.634943),\n",
       " (100.660631, 13.635179),\n",
       " (100.662316, 13.634515),\n",
       " (100.662134, 13.634153),\n",
       " (100.660387, 13.634837),\n",
       " (100.660177, 13.634515),\n",
       " (100.659587, 13.634714),\n",
       " (100.656821, 13.635646),\n",
       " (100.65501, 13.630921),\n",
       " (100.657528, 13.630079),\n",
       " (100.657122, 13.629237),\n",
       " (100.650597, 13.631657),\n",
       " (100.650327, 13.631789),\n",
       " (100.648344, 13.630467),\n",
       " (100.647545, 13.631256),\n",
       " (100.646449, 13.630283),\n",
       " (100.64565, 13.62977),\n",
       " (100.645326, 13.630059),\n",
       " (100.645691, 13.630703)]"
      ]
     },
     "execution_count": 13,
     "metadata": {},
     "output_type": "execute_result"
    }
   ],
   "source": [
    "pa[99]['geometry']['coordinates'][0]"
   ]
  },
  {
   "cell_type": "code",
   "execution_count": 2,
   "metadata": {},
   "outputs": [],
   "source": [
    "import pandas as pd\n",
    "#pa_df.to_csv('pa_traffic.csv',index=False)\n",
    "pa_df = pd.read_csv('pa_traffic.csv')"
   ]
  },
  {
   "cell_type": "markdown",
   "metadata": {},
   "source": [
    "plotting the bubble map"
   ]
  },
  {
   "cell_type": "code",
   "execution_count": 55,
   "metadata": {},
   "outputs": [],
   "source": [
    "pa_df['size'] = (pa_df['pred_improved_traffic'] - pa_df['pred_improved_traffic'].min())/(pa_df['pred_improved_traffic'].max() - pa_df['pred_improved_traffic'].min())*50\n",
    "\n",
    "from bokeh.io import output_file,show\n",
    "from bokeh.plotting import figure\n",
    "from bokeh.models import ColumnDataSource\n",
    "from bokeh.models import HoverTool\n",
    "\n",
    "plot = figure(plot_width=1000,title='predicted traffic gain(MB) from coverage improvement of each PA(Problem Area)')\n",
    "source = ColumnDataSource(pa_df)\n",
    "plot.circle('lng','lat',source=source,size='size',fill_alpha=0.2)\n",
    "hover = HoverTool(tooltips=[('pa id', '@pa_id'),('predicted traffic gain (MB)', '@pred_improved_traffic')])\n",
    "plot.add_tools(hover)\n",
    "\n",
    "output_file('pa.html')\n",
    "show(plot)"
   ]
  },
  {
   "cell_type": "markdown",
   "metadata": {},
   "source": [
    "plotting the pa polygons"
   ]
  },
  {
   "cell_type": "code",
   "execution_count": 3,
   "metadata": {},
   "outputs": [],
   "source": [
    "pa_df['pa_id'] = pa_df['pa_id'].astype(int)\n",
    "\n",
    "pred_traff = pa_df['pred_improved_traffic'].values\n",
    "\n",
    "import numpy as np\n",
    "norm_pred_traff = (pred_traff - np.min(pred_traff))/(np.max(pred_traff)-np.min(pred_traff))\n",
    "\n",
    "lng_list = []\n",
    "lat_list = []\n",
    "alpha_list = []\n",
    "for i,pa_id in enumerate(pa_df['pa_id']):\n",
    "    lng=[]\n",
    "    lat=[]\n",
    "    for coor in pa[pa_id]['geometry']['coordinates'][0]:\n",
    "        lng.append(coor[0])\n",
    "        lat.append(coor[1])\n",
    "    lng_list.append(lng)\n",
    "    lat_list.append(lat)\n",
    "    alpha_list.append(norm_pred_traff[i])\n",
    "\n",
    "from bokeh.io import output_file,show\n",
    "from bokeh.plotting import figure\n",
    "from bokeh.models import ColumnDataSource\n",
    "from bokeh.models import HoverTool\n",
    "\n",
    "source = ColumnDataSource(data = dict(\n",
    "    pa_id = pa_df['pa_id'].values,\n",
    "    lng = lng_list,\n",
    "    lat = lat_list,\n",
    "    al = alpha_list,\n",
    "    traff = pred_traff\n",
    "))\n",
    "plot = figure(plot_width=1000,title='predicted traffic gain(MB) from coverage improvement of each PA(Problem Area)')\n",
    "plot.patches('lng','lat',alpha='al',source=source)\n",
    "\n",
    "hover = HoverTool(tooltips=[('pa id', '@pa_id'),('predicted traffic gain (MB)', '@traffic_gain')])\n",
    "plot.add_tools(hover)\n",
    "\n",
    "output_file('pa2.html')\n",
    "show(plot)"
   ]
  },
  {
   "cell_type": "code",
   "execution_count": null,
   "metadata": {},
   "outputs": [],
   "source": []
  }
 ],
 "metadata": {
  "kernelspec": {
   "display_name": "Python 3",
   "language": "python",
   "name": "python3"
  },
  "language_info": {
   "codemirror_mode": {
    "name": "ipython",
    "version": 3
   },
   "file_extension": ".py",
   "mimetype": "text/x-python",
   "name": "python",
   "nbconvert_exporter": "python",
   "pygments_lexer": "ipython3",
   "version": "3.7.0"
  }
 },
 "nbformat": 4,
 "nbformat_minor": 2
}
